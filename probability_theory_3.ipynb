{
  "nbformat": 4,
  "nbformat_minor": 0,
  "metadata": {
    "colab": {
      "provenance": [],
      "authorship_tag": "ABX9TyM8NgHtY+7MotTmikF5SYXG",
      "include_colab_link": true
    },
    "kernelspec": {
      "name": "python3",
      "display_name": "Python 3"
    },
    "language_info": {
      "name": "python"
    }
  },
  "cells": [
    {
      "cell_type": "markdown",
      "metadata": {
        "id": "view-in-github",
        "colab_type": "text"
      },
      "source": [
        "<a href=\"https://colab.research.google.com/github/Alino4kaAlino4ka/probability_theory_and_math_statistics/blob/main/probability_theory_3.ipynb\" target=\"_parent\"><img src=\"https://colab.research.google.com/assets/colab-badge.svg\" alt=\"Open In Colab\"/></a>"
      ]
    },
    {
      "cell_type": "markdown",
      "source": [
        "Теория вероятностей и математическая статистика (семинары)\n",
        "Урок 3. EDA (exploratory data analysis) или Разведочный анализ\n"
      ],
      "metadata": {
        "id": "waKQh22aFF2q"
      }
    },
    {
      "cell_type": "markdown",
      "source": [
        "**Даны значения зарплат из выборки выпускников: 100, 80, 75, 77, 89, 33, 45, 25, 65, 17, 30, 24, 57, 55, 70, 75, 65, 84, 90, 150. Посчитать (желательно без использования статистических методов наподобие std, var, mean) среднее арифметическое, среднее квадратичное отклонение, смещенную и несмещенную оценки дисперсий для данной выборки.**"
      ],
      "metadata": {
        "id": "AJeKgjx0FGad"
      }
    },
    {
      "cell_type": "code",
      "execution_count": null,
      "metadata": {
        "id": "a5hD5Q5YE_eM"
      },
      "outputs": [],
      "source": [
        "import numpy as np\n",
        "from math import factorial"
      ]
    },
    {
      "cell_type": "code",
      "source": [
        "arr=np.array([100, 80, 75, 77, 89, 33, 45, 25, 65, 17, 30, 24, 57, 55, 70, 75, 65, 84, 90, 150])\n",
        "arr"
      ],
      "metadata": {
        "colab": {
          "base_uri": "https://localhost:8080/"
        },
        "id": "QpHQlVmKFV-I",
        "outputId": "99d3cff8-b0b2-476e-bfcb-99caed85a21a"
      },
      "execution_count": null,
      "outputs": [
        {
          "output_type": "execute_result",
          "data": {
            "text/plain": [
              "array([100,  80,  75,  77,  89,  33,  45,  25,  65,  17,  30,  24,  57,\n",
              "        55,  70,  75,  65,  84,  90, 150])"
            ]
          },
          "metadata": {},
          "execution_count": 2
        }
      ]
    },
    {
      "cell_type": "code",
      "source": [
        "def mean_value(array):\n",
        "    return sum(array) / len(array)\n",
        "\n",
        "\n",
        "print(f'Среднее арифметическое = {mean_value(arr):.1f}')\n",
        "np.mean(arr)"
      ],
      "metadata": {
        "colab": {
          "base_uri": "https://localhost:8080/"
        },
        "id": "k-lxFKLCFWPm",
        "outputId": "1e9a552c-af29-4e33-a40a-8725da11b635"
      },
      "execution_count": null,
      "outputs": [
        {
          "output_type": "stream",
          "name": "stdout",
          "text": [
            "Среднее арифметическое = 65.3\n"
          ]
        },
        {
          "output_type": "execute_result",
          "data": {
            "text/plain": [
              "65.3"
            ]
          },
          "metadata": {},
          "execution_count": 5
        }
      ]
    },
    {
      "cell_type": "code",
      "source": [
        "def mean_square_deviation(array):\n",
        "    square_dev = (array - mean_value(array)) ** 2\n",
        "    return (sum(square_dev) / len(square_dev)) ** (1 / 2)\n",
        "\n",
        "    \n",
        "print(f'Среднее квадратичное отклонение = {mean_square_deviation(arr):.3f}')\n",
        "round(np.std(arr), 3)"
      ],
      "metadata": {
        "colab": {
          "base_uri": "https://localhost:8080/"
        },
        "id": "sey4E0p-FWcR",
        "outputId": "8fca6bb8-9226-411d-d722-7a24b5120889"
      },
      "execution_count": null,
      "outputs": [
        {
          "output_type": "stream",
          "name": "stdout",
          "text": [
            "Среднее квадратичное отклонение = 30.824\n"
          ]
        },
        {
          "output_type": "execute_result",
          "data": {
            "text/plain": [
              "30.824"
            ]
          },
          "metadata": {},
          "execution_count": 10
        }
      ]
    },
    {
      "cell_type": "code",
      "source": [
        "def dispers(array, no_off=False):\n",
        "#аргумент no_off отвечает за расчет смещенной, или несмещенной оценки дисперсии. По умолчанио расчитывается смещенная.#\n",
        "    square_dev = (array - mean_value(array)) ** 2\n",
        "    return sum(square_dev) / (len(square_dev) - 1) if no_off else sum(square_dev) / len(square_dev)\n",
        "\n",
        "\n",
        "print(f'Смещенная оценка дисперсии для данной выборки D = {dispers(arr): .4f}\\n'\n",
        "      f'Неcмещенная оценка дисперсии для данной выборки D = {dispers(arr, True): .4f}\\n')\n",
        "print(f'{np.var(arr)}\\n'\n",
        "      f'{round(np.var(arr, ddof=1), 4)}')\n"
      ],
      "metadata": {
        "colab": {
          "base_uri": "https://localhost:8080/"
        },
        "id": "UxYMu22-HIg9",
        "outputId": "66129be6-6315-4d3f-d8a6-11acd6e47243"
      },
      "execution_count": null,
      "outputs": [
        {
          "output_type": "stream",
          "name": "stdout",
          "text": [
            "Смещенная оценка дисперсии для данной выборки D =  950.1100\n",
            "Неcмещенная оценка дисперсии для данной выборки D =  1000.1158\n",
            "\n",
            "950.11\n",
            "1000.1158\n"
          ]
        }
      ]
    },
    {
      "cell_type": "markdown",
      "source": [
        "**В первом ящике находится 8 мячей, из которых 5 - белые. Во втором ящике - 12 мячей, из которых 5 белых. Из первого ящика вытаскивают случайным образом два мяча, из второго - 4. Какова вероятность того, что 3 мяча белые?**"
      ],
      "metadata": {
        "id": "3VFoU-rBKEaB"
      }
    },
    {
      "cell_type": "code",
      "source": [
        "def combo(n, k):\n",
        "    return factorial(n) // (factorial(k) * factorial(n - k))\n"
      ],
      "metadata": {
        "id": "Xi9erxtOHI2M"
      },
      "execution_count": null,
      "outputs": []
    },
    {
      "cell_type": "code",
      "source": [
        "P1 = (combo(3,  2) / combo(8, 2)) * (combo(5, 3) * combo(7, 1) / combo(12, 4))\n",
        "print(f'Вероятность того,что из 1й корзины не вытащили ни одного белого мяча, '\n",
        "      f'а из 2й вытащили 3 белых мяча = {P1:.3f}')"
      ],
      "metadata": {
        "colab": {
          "base_uri": "https://localhost:8080/"
        },
        "id": "_JDnuck8HI5F",
        "outputId": "1c7cb6b4-1326-4b53-8f9f-08d30a5c9126"
      },
      "execution_count": null,
      "outputs": [
        {
          "output_type": "stream",
          "name": "stdout",
          "text": [
            "Вероятность того,что из 1й корзины не вытащили ни одного белого мяча, а из 2й вытащили 3 белых мяча = 0.015\n"
          ]
        }
      ]
    },
    {
      "cell_type": "code",
      "source": [
        "P2 = (combo(5, 1) * combo(3, 1) * combo(5, 2) * combo(7, 2)) / (combo(8, 2) * combo(12, 4))\n",
        "print(f'Вероятность того,что из 1й корзины вытащили 1 белый мяч, '\n",
        "      f'а из 2й вытащили 2 белых мяча = {P2:.3f}')"
      ],
      "metadata": {
        "colab": {
          "base_uri": "https://localhost:8080/"
        },
        "id": "-i1QhAgpLfFu",
        "outputId": "774e077a-049e-4222-ae6e-00e7ff554442"
      },
      "execution_count": null,
      "outputs": [
        {
          "output_type": "stream",
          "name": "stdout",
          "text": [
            "Вероятность того,что из 1й корзины вытащили 1 белый мяч, а из 2й вытащили 2 белых мяча = 0.227\n"
          ]
        }
      ]
    },
    {
      "cell_type": "code",
      "source": [
        "P3 = (combo(5, 2) * combo(5, 1) * combo(7, 3)) / (combo(8, 2) * combo(12, 4))\n",
        "print(f'Вероятность того, что из 1й корзины вытащили 2 белых мяча, '\n",
        "      f'а из 2й вытащили 1 белый мяч = {P3:.3f}')"
      ],
      "metadata": {
        "colab": {
          "base_uri": "https://localhost:8080/"
        },
        "id": "WsUBUkXGLi39",
        "outputId": "2db41ef6-96d8-4cd9-c68a-ce8bc265053e"
      },
      "execution_count": null,
      "outputs": [
        {
          "output_type": "stream",
          "name": "stdout",
          "text": [
            "Вероятность того, что из 1й корзины вытащили 2 белых мяча, а из 2й вытащили 1 белый мяч = 0.126\n"
          ]
        }
      ]
    },
    {
      "cell_type": "code",
      "source": [
        "print(f'Вероятность того, что из вытащенных мячей 3 белые = {P1 + P2 + P3:.3f}')"
      ],
      "metadata": {
        "colab": {
          "base_uri": "https://localhost:8080/"
        },
        "id": "OPpFU7wMNW2k",
        "outputId": "9544a594-57de-4094-fa5c-2eb4428ccc7f"
      },
      "execution_count": null,
      "outputs": [
        {
          "output_type": "stream",
          "name": "stdout",
          "text": [
            "Вероятность того, что из вытащенных мячей 3 белые = 0.369\n"
          ]
        }
      ]
    },
    {
      "cell_type": "markdown",
      "source": [
        "**На соревновании по биатлону один из трех спортсменов стреляет и попадает в мишень. Вероятность попадания для первого спортсмена равна 0.9, для второго — 0.8, для третьего — 0.6. Найти вероятность того, что выстрел произведен: \n",
        "a). первым спортсменом \n",
        "б). вторым спортсменом \n",
        "в). третьим спортсменом.**"
      ],
      "metadata": {
        "id": "HDSVuL6xN5DD"
      }
    },
    {
      "cell_type": "code",
      "source": [
        "PB = 1 / 3\n",
        "PA = PB * 0.9 + PB * 0.8 + PB * 0.6\n",
        "print(f'Полная вероятность поражения мишени = {PA:.3f}')"
      ],
      "metadata": {
        "colab": {
          "base_uri": "https://localhost:8080/"
        },
        "id": "JrGgoWpVTLQZ",
        "outputId": "3da93760-ae0c-4eb9-e267-d22dc3a5cea9"
      },
      "execution_count": null,
      "outputs": [
        {
          "output_type": "stream",
          "name": "stdout",
          "text": [
            "Вероятность поражения мишени = 0.767\n"
          ]
        }
      ]
    },
    {
      "cell_type": "code",
      "source": [
        "PAB1 = PB * 0.9 / PA\n",
        "PAB2 = PB * 0.8 / PA\n",
        "PAB3 = PB * 0.6 / PA\n",
        "print(f'Вероятность того, что выстрел произвёл первый спортсмен: {PAB1:.3f}\\n'\n",
        "      f'Вероятность того, что выстрел произвёл второй спортсмен: {PAB2:.3f}\\n'\n",
        "      f'Вероятность того, что выстрел произвёл третий спортсмен: {PAB3:.3f}')"
      ],
      "metadata": {
        "colab": {
          "base_uri": "https://localhost:8080/"
        },
        "id": "0SF97kN8TL99",
        "outputId": "a5180038-c248-490d-be3a-77fb2f4970a6"
      },
      "execution_count": null,
      "outputs": [
        {
          "output_type": "stream",
          "name": "stdout",
          "text": [
            "Вероятность того, что выстрел произвёл первый спортсмен: 0.391\n",
            "Вероятность того, что выстрел произвёл второй спортсмен: 0.348\n",
            "Вероятность того, что выстрел произвёл третий спортсмен: 0.261\n"
          ]
        }
      ]
    },
    {
      "cell_type": "markdown",
      "source": [
        "**В университет на факультеты A и B поступило равное количество студентов, а на факультет C студентов поступило столько же, сколько на A и B вместе. Вероятность того, что студент факультета A сдаст первую сессию, равна 0.8. Для студента факультета B эта вероятность равна 0.7, а для студента факультета C - 0.9. Студент сдал первую сессию. Какова вероятность, что он учится: a). на факультете A б). на факультете B в). на факультете C?**"
      ],
      "metadata": {
        "id": "kFo7zd8DUe2s"
      }
    },
    {
      "cell_type": "code",
      "source": [
        "PD = 0.25 * 0.8 + 0.25 * 0.7 + 0.5 * 0.9\n",
        "print(f'Полная вероятность сдачи сессии = {PD}.')"
      ],
      "metadata": {
        "colab": {
          "base_uri": "https://localhost:8080/"
        },
        "id": "qDuNbXN5TMBJ",
        "outputId": "dd771a7c-2da4-4752-f70e-79cc95b1d93e"
      },
      "execution_count": null,
      "outputs": [
        {
          "output_type": "stream",
          "name": "stdout",
          "text": [
            "Вероятность сдачи сессии = 0.825.\n"
          ]
        }
      ]
    },
    {
      "cell_type": "code",
      "source": [
        "PDSA = 0.25 * 0.8 / PD\n",
        "PDSB = 0.25 * 0.7 / PD\n",
        "PDSC = 0.5 * 0.9 / PD\n",
        "print(f'Вероятность того, что студент учится на факультете А: {PDSA:.3f}\\n'\n",
        "      f'Вероятность того, что студент учится на факультете B: {PDSB:.3f}\\n'\n",
        "      f'Вероятность того, что студент учится на факультете C: {PDSC:.3f}')"
      ],
      "metadata": {
        "colab": {
          "base_uri": "https://localhost:8080/"
        },
        "id": "FjDEsp3ZVF1a",
        "outputId": "d4d97ed3-f558-4efe-f026-c5ca89035372"
      },
      "execution_count": null,
      "outputs": [
        {
          "output_type": "stream",
          "name": "stdout",
          "text": [
            "Вероятность того, что студент учится на факультете А: 0.242\n",
            "Вероятность того, что студент учится на факультете B: 0.212\n",
            "Вероятность того, что студент учится на факультете C: 0.545\n"
          ]
        }
      ]
    },
    {
      "cell_type": "markdown",
      "source": [
        "**Устройство состоит из трех деталей. Для первой детали вероятность выйти из строя в первый месяц равна 0.1, для второй - 0.2, для третьей - 0.25. Какова вероятность того, что в первый месяц выйдут из строя: а). все детали б). только две детали в). хотя бы одна деталь г). от одной до двух деталей?**"
      ],
      "metadata": {
        "id": "6v1xsILgVk44"
      }
    },
    {
      "cell_type": "code",
      "source": [
        "P3 = 0.1 * 0.2 * 0.25\n",
        "print(f'Вероятность того, что из строя выйдут все детали = {P3:.3f}')"
      ],
      "metadata": {
        "colab": {
          "base_uri": "https://localhost:8080/"
        },
        "id": "jg0gUROLVods",
        "outputId": "2176ae61-594c-406c-cf42-86924385dea9"
      },
      "execution_count": null,
      "outputs": [
        {
          "output_type": "stream",
          "name": "stdout",
          "text": [
            "Вероятность того, что из строя выйдут все детали = 0.005\n"
          ]
        }
      ]
    },
    {
      "cell_type": "code",
      "source": [
        "P2 = 0.1 * 0.2 * 0.75 + 0.1 * 0.25 * 0.8 + 0.2 * 0.25 * 0.9\n",
        "print(f'Вероятность того, что из строя выйдут только две детали = {P2:.3f}')"
      ],
      "metadata": {
        "colab": {
          "base_uri": "https://localhost:8080/"
        },
        "id": "uwbFyUL4Volq",
        "outputId": "a69d83fd-0d3c-45cf-9689-b79431cf25ec"
      },
      "execution_count": null,
      "outputs": [
        {
          "output_type": "stream",
          "name": "stdout",
          "text": [
            "Вероятность того, что из строя выйдут только две детали = 0.080\n"
          ]
        }
      ]
    },
    {
      "cell_type": "code",
      "source": [
        "P0 = 0.9 * 0.8 * 0.75\n",
        "print(f'Вероятность того, что из строя не выйдет ни одной детали Р(0) = {P0:.3f}')"
      ],
      "metadata": {
        "colab": {
          "base_uri": "https://localhost:8080/"
        },
        "id": "L8Amc3CfDFhB",
        "outputId": "b25994b9-9b49-4ed9-b070-51870c872e0b"
      },
      "execution_count": 86,
      "outputs": [
        {
          "output_type": "stream",
          "name": "stdout",
          "text": [
            "Вероятность того, что из строя не выйдет ни одной детали Р(0) = 0.540\n"
          ]
        }
      ]
    },
    {
      "cell_type": "code",
      "source": [
        "print(f'Вероятность того, что выйдет из строя хотя бы одна деталь Р(>=1) = {(1 - P0):.3f}')"
      ],
      "metadata": {
        "colab": {
          "base_uri": "https://localhost:8080/"
        },
        "id": "UlFe4YkVWNxb",
        "outputId": "1c726d32-cf0e-41be-e01b-ef68421f0c97"
      },
      "execution_count": 87,
      "outputs": [
        {
          "output_type": "stream",
          "name": "stdout",
          "text": [
            "Вероятность того, что выйдет из строя хотя бы одна деталь Р(>=1) = 0.460\n"
          ]
        }
      ]
    },
    {
      "cell_type": "code",
      "source": [
        "P1 = 0.1 * 0.8 * 0.75 + 0.2 * 0.9 * 0.75 + 0.25 * 0.9 * 0.8\n",
        "print(f'Вероятность того, что выйдет из строя одна деталь = {P1:.3f}')"
      ],
      "metadata": {
        "colab": {
          "base_uri": "https://localhost:8080/"
        },
        "id": "TiDhK6-WXce3",
        "outputId": "284db0d0-9941-4b5c-c194-143cdf4916d9"
      },
      "execution_count": 88,
      "outputs": [
        {
          "output_type": "stream",
          "name": "stdout",
          "text": [
            "Вероятность того, что выйдет из строя одна деталь = 0.375\n"
          ]
        }
      ]
    },
    {
      "cell_type": "code",
      "source": [
        "print(f'Вероятность того, что выйдет из строя от одной до двух деталей = {P1 + P2}')"
      ],
      "metadata": {
        "colab": {
          "base_uri": "https://localhost:8080/"
        },
        "id": "4KHfhOIsXw6F",
        "outputId": "4f884a18-43fc-4568-9423-ae53087ce487"
      },
      "execution_count": 89,
      "outputs": [
        {
          "output_type": "stream",
          "name": "stdout",
          "text": [
            "Вероятность того, что выйдет из строя от одной до двух деталей = 0.455\n"
          ]
        }
      ]
    },
    {
      "cell_type": "code",
      "source": [],
      "metadata": {
        "id": "W-a0wF8ibdkq"
      },
      "execution_count": null,
      "outputs": []
    }
  ]
}