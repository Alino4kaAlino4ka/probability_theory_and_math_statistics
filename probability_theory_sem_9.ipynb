{
  "nbformat": 4,
  "nbformat_minor": 0,
  "metadata": {
    "colab": {
      "provenance": [],
      "include_colab_link": true
    },
    "kernelspec": {
      "name": "python3",
      "display_name": "Python 3"
    },
    "language_info": {
      "name": "python"
    }
  },
  "cells": [
    {
      "cell_type": "markdown",
      "metadata": {
        "id": "view-in-github",
        "colab_type": "text"
      },
      "source": [
        "<a href=\"https://colab.research.google.com/github/Alino4kaAlino4ka/probability_theory_and_math_statistics/blob/main/probability_theory_sem_9.ipynb\" target=\"_parent\"><img src=\"https://colab.research.google.com/assets/colab-badge.svg\" alt=\"Open In Colab\"/></a>"
      ]
    },
    {
      "cell_type": "code",
      "source": [
        "import numpy as np\n",
        "import pandas as pd\n",
        "import scipy.stats as stats\n",
        "import matplotlib.pyplot as plt"
      ],
      "metadata": {
        "id": "ZB2PqF44OjKM"
      },
      "execution_count": null,
      "outputs": []
    },
    {
      "cell_type": "code",
      "execution_count": null,
      "metadata": {
        "id": "zMw9VgKQ_ZLd",
        "colab": {
          "base_uri": "https://localhost:8080/"
        },
        "outputId": "0aa9d10e-f5a3-456a-e1c5-2ea575b805e3"
      },
      "outputs": [
        {
          "output_type": "execute_result",
          "data": {
            "text/plain": [
              "(array([30, 30, 40, 40, 20, 20, 50, 50, 10, 10, 60, 60]),\n",
              " array([37, 47, 50, 60, 25, 35, 62, 72, 13, 23, 74, 84]))"
            ]
          },
          "metadata": {},
          "execution_count": 23
        }
      ],
      "source": [
        "X3 = np.array([30,30,40, 40, 20, 20, 50, 50, 10, 10, 60, 60]) \n",
        "Y3 = np.array([37, 47, 50, 60, 25, 35, 62, 72, 13, 23, 74, 84])\n",
        "\n",
        "X3, Y3"
      ]
    },
    {
      "cell_type": "code",
      "source": [
        "plt.scatter(X3, Y3)\n",
        "plt.show()"
      ],
      "metadata": {
        "colab": {
          "base_uri": "https://localhost:8080/",
          "height": 265
        },
        "id": "H9xtneDAOwod",
        "outputId": "97099941-9cd3-4fdc-c2e7-24d2213d5cc4"
      },
      "execution_count": null,
      "outputs": [
        {
          "output_type": "display_data",
          "data": {
            "text/plain": [
              "<Figure size 432x288 with 1 Axes>"
            ],
            "image/png": "[encoded data removed]"
          },
          "metadata": {
            "needs_background": "light"
          }
        }
      ]
    },
    {
      "cell_type": "code",
      "source": [
        "n = len(X3)\n",
        "n1 = len(Y3)\n",
        "\n",
        "n, n1"
      ],
      "metadata": {
        "colab": {
          "base_uri": "https://localhost:8080/"
        },
        "id": "9SNqJfTPO-UB",
        "outputId": "b01e8e3a-558a-4189-cf84-64d755f2f202"
      },
      "execution_count": null,
      "outputs": [
        {
          "output_type": "execute_result",
          "data": {
            "text/plain": [
              "(12, 12)"
            ]
          },
          "metadata": {},
          "execution_count": 25
        }
      ]
    },
    {
      "cell_type": "code",
      "source": [
        "b1 = (n*np.sum(Y3*X3) - np.sum(X3) * np.sum(Y3)) / (n* np.sum(X3**2)-np.sum(X3)**2)\n",
        "b1"
      ],
      "metadata": {
        "colab": {
          "base_uri": "https://localhost:8080/"
        },
        "id": "mueGyuIaPz90",
        "outputId": "eb581259-2758-47d2-a9dd-831a8255e0d0"
      },
      "execution_count": null,
      "outputs": [
        {
          "output_type": "execute_result",
          "data": {
            "text/plain": [
              "1.2257142857142858"
            ]
          },
          "metadata": {},
          "execution_count": 26
        }
      ]
    },
    {
      "cell_type": "markdown",
      "source": [],
      "metadata": {
        "id": "F3yMWMrKhwdw"
      }
    },
    {
      "cell_type": "code",
      "source": [
        "b0 = np.mean(Y3) - b1 * np.mean(X3)\n",
        "b0"
      ],
      "metadata": {
        "colab": {
          "base_uri": "https://localhost:8080/"
        },
        "id": "xHMpz5tMP0FZ",
        "outputId": "488fdbd3-e6b1-49d3-ed20-16b6df879596"
      },
      "execution_count": null,
      "outputs": [
        {
          "output_type": "execute_result",
          "data": {
            "text/plain": [
              "5.600000000000001"
            ]
          },
          "metadata": {},
          "execution_count": 27
        }
      ]
    },
    {
      "cell_type": "code",
      "source": [
        "y_pred = b0 + b1 * X3\n",
        "y_pred"
      ],
      "metadata": {
        "colab": {
          "base_uri": "https://localhost:8080/"
        },
        "id": "CzntldKPP0LU",
        "outputId": "0e8b3b75-1bef-4f45-dd7b-3bbcf5ce5196"
      },
      "execution_count": null,
      "outputs": [
        {
          "output_type": "execute_result",
          "data": {
            "text/plain": [
              "array([42.37142857, 42.37142857, 54.62857143, 54.62857143, 30.11428571,\n",
              "       30.11428571, 66.88571429, 66.88571429, 17.85714286, 17.85714286,\n",
              "       79.14285714, 79.14285714])"
            ]
          },
          "metadata": {},
          "execution_count": 28
        }
      ]
    },
    {
      "cell_type": "code",
      "source": [
        "np.corrcoef(Y3, y_pred)[1,0]**2"
      ],
      "metadata": {
        "colab": {
          "base_uri": "https://localhost:8080/"
        },
        "id": "-vlYa5XjbllS",
        "outputId": "4e254220-62bf-40a4-8bc7-c1048bfb0d3a"
      },
      "execution_count": null,
      "outputs": [
        {
          "output_type": "execute_result",
          "data": {
            "text/plain": [
              "0.9459101071621309"
            ]
          },
          "metadata": {},
          "execution_count": 36
        }
      ]
    },
    {
      "cell_type": "code",
      "source": [],
      "metadata": {
        "id": "txKSPs2TcOpD"
      },
      "execution_count": null,
      "outputs": []
    },
    {
      "cell_type": "code",
      "source": [
        "def mse_ (b, X3 = X3, Y3 = Y3, n = len(X3)):\n",
        "  return np.sum((b*X3-Y3)**2)/n\n",
        "\n",
        "mse_(0.2)\n",
        "\n",
        "\n"
      ],
      "metadata": {
        "colab": {
          "base_uri": "https://localhost:8080/"
        },
        "id": "0FXWC04AR6s8",
        "outputId": "b6ce269f-f983-44b8-d900-1db7a28ef03e"
      },
      "execution_count": null,
      "outputs": [
        {
          "output_type": "execute_result",
          "data": {
            "text/plain": [
              "2054.1666666666665"
            ]
          },
          "metadata": {},
          "execution_count": 30
        }
      ]
    },
    {
      "cell_type": "code",
      "source": [
        "alpha = 0.0001\n",
        "b = 0.1\n",
        "for i in range (5000):\n",
        "  b -= alpha *(2/n) * np.sum ((b* X3 - Y3)* X3)\n",
        "  if i % 1000 == 0:\n",
        "    print('b - {b}, mse = {mse}'.format(b = b, mse = mse_(b)))\n"
      ],
      "metadata": {
        "colab": {
          "base_uri": "https://localhost:8080/"
        },
        "id": "WiQ8dFpZUnw0",
        "outputId": "63f38c63-e58e-4ef4-97ea-b7ea2de8f358"
      },
      "execution_count": null,
      "outputs": [
        {
          "output_type": "stream",
          "name": "stdout",
          "text": [
            "b - 0.4806666666666667, mse = 1190.3713407407406\n",
            "b - 1.3549450549450548, mse = 31.08791208791209\n",
            "b - 1.3549450549450548, mse = 31.08791208791209\n",
            "b - 1.3549450549450548, mse = 31.08791208791209\n",
            "b - 1.3549450549450548, mse = 31.08791208791209\n"
          ]
        }
      ]
    },
    {
      "cell_type": "code",
      "source": [
        "mse_(1.3549450549450548)"
      ],
      "metadata": {
        "colab": {
          "base_uri": "https://localhost:8080/"
        },
        "id": "Q69ijXEcV2zH",
        "outputId": "4c44aaa1-1f14-4adb-cf8c-5d9b2d4bbdd2"
      },
      "execution_count": null,
      "outputs": [
        {
          "output_type": "execute_result",
          "data": {
            "text/plain": [
              "31.08791208791209"
            ]
          },
          "metadata": {},
          "execution_count": 32
        }
      ]
    },
    {
      "cell_type": "code",
      "source": [
        "def mse_B0B1 (B0, B1, x, y):\n",
        "    return np.sum (((B0 + B1 * x-y)**2) / len(x)\n",
        "def mse_B0 (B0, B1, x, y): \n",
        "    return 2*np.sum ((B0 + B1 * x)-y) / len(x)\n",
        "def mse_B1 (B0, B1, x, y):\n",
        "    return 2*np.sum (((B0 + B1 * x)-y)*x) / len(x)\n",
        "\n",
        "alpha = 0.0001\n",
        "B0 = 0.3\n",
        "B1 = 0.2\n",
        "for i in range(999999):\n",
        "    B0 -=  alpha * mse_B0(B0, B1, X3, Y3)\n",
        "    B1 -= alpha * mse_B1(B0, B1, X3, Y3)\n",
        "    if i % 80000 == 0:\n",
        "      print('B0 - {B0},B1 - {B1}, mse = {mse}'.format(B0 = B0, B1 = B1, mse = mse_B0B1(B0, B1, X3,Y3)))\n",
        "print(f'B0={B0}\\nB1={B1}')\n"
      ],
      "metadata": {
        "colab": {
          "base_uri": "https://localhost:8080/",
          "height": 132
        },
        "id": "QsoARza-XGOT",
        "outputId": "77e2b34e-d7a3-45f1-9e56-93268618c74f"
      },
      "execution_count": null,
      "outputs": [
        {
          "output_type": "error",
          "ename": "SyntaxError",
          "evalue": "ignored",
          "traceback": [
            "\u001b[0;36m  File \u001b[0;32m\"<ipython-input-33-d733f688f796>\"\u001b[0;36m, line \u001b[0;32m3\u001b[0m\n\u001b[0;31m    def mse_B0 (B0, B1, x, y):\u001b[0m\n\u001b[0m    ^\u001b[0m\n\u001b[0;31mSyntaxError\u001b[0m\u001b[0;31m:\u001b[0m invalid syntax\n"
          ]
        }
      ]
    },
    {
      "cell_type": "code",
      "source": [],
      "metadata": {
        "id": "oAtvc00tbT5k"
      },
      "execution_count": null,
      "outputs": []
    }
  ]
}