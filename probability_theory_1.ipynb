{
  "nbformat": 4,
  "nbformat_minor": 0,
  "metadata": {
    "colab": {
      "provenance": [],
      "authorship_tag": "ABX9TyOjh61PCt+E00GCLBCmzpJ5",
      "include_colab_link": true
    },
    "kernelspec": {
      "name": "python3",
      "display_name": "Python 3"
    },
    "language_info": {
      "name": "python"
    }
  },
  "cells": [
    {
      "cell_type": "markdown",
      "metadata": {
        "id": "view-in-github",
        "colab_type": "text"
      },
      "source": [
        "<a href=\"https://colab.research.google.com/github/Alino4kaAlino4ka/probability_theory_and_math_statistics/blob/main/probability_theory_1.ipynb\" target=\"_parent\"><img src=\"https://colab.research.google.com/assets/colab-badge.svg\" alt=\"Open In Colab\"/></a>"
      ]
    },
    {
      "cell_type": "markdown",
      "source": [
        "\n",
        "Из колоды в 52 карты извлекаются случайным образом 4 карты.\n",
        "a) Найти вероятность того, что все карты – крести.\n",
        "б) Найти вероятность, что среди 4-х карт окажется хотя бы один туз."
      ],
      "metadata": {
        "id": "JWFmR6dGS3fe"
      }
    },
    {
      "cell_type": "code",
      "execution_count": 33,
      "metadata": {
        "id": "7eqHfDCGNodp"
      },
      "outputs": [],
      "source": [
        "from math import factorial"
      ]
    },
    {
      "cell_type": "code",
      "source": [
        "def combo(n, k):\n",
        "    return int(factorial(n) // (factorial(k) * factorial(n - k)))"
      ],
      "metadata": {
        "id": "v1jqpjr1ZtoK"
      },
      "execution_count": 35,
      "outputs": []
    },
    {
      "cell_type": "code",
      "source": [
        "m = combo(52 / 4, 4)\n",
        "n = combo(52, 4)\n",
        "\n",
        "P = m / n\n",
        "print(f'Вероятность того, что все 4 карты крести  = {round(P, 4)}')"
      ],
      "metadata": {
        "colab": {
          "base_uri": "https://localhost:8080/"
        },
        "id": "qszhnv5wULpt",
        "outputId": "2013e35e-7517-4cc1-dfbb-b79b2af1614e"
      },
      "execution_count": 36,
      "outputs": [
        {
          "output_type": "stream",
          "name": "stdout",
          "text": [
            "Вероятность того, что все 4 карты крести  = 0.0026\n"
          ]
        }
      ]
    },
    {
      "cell_type": "code",
      "source": [
        "m = sum([combo(4, 1) * combo(48, 3), combo(4, 2) * combo(48, 2), combo(4, 3) * combo(48, 1), 1])\n",
        "\n",
        "P = m / n\n",
        "print(f'Вероятность того, что среди 4-х карт окажется хотя бы один туз = {round(P,4)}')"
      ],
      "metadata": {
        "colab": {
          "base_uri": "https://localhost:8080/"
        },
        "id": "hk9UnLUtV6SM",
        "outputId": "c223011e-49c9-4bad-a4ab-cd5d1ec36cd1"
      },
      "execution_count": 37,
      "outputs": [
        {
          "output_type": "stream",
          "name": "stdout",
          "text": [
            "Вероятность того, что среди 4-х карт окажется хотя бы один туз = 0.2813\n"
          ]
        }
      ]
    },
    {
      "cell_type": "markdown",
      "source": [
        "На входной двери подъезда установлен кодовый замок, содержащий десять кнопок с цифрами от 0 до 9.\n",
        "Код содержит три цифры, которые нужно нажать одновременно.\n",
        "Какова вероятность того, что человек, не знающий код, откроет дверь с первой попытки?"
      ],
      "metadata": {
        "id": "efa_y870WQTe"
      }
    },
    {
      "cell_type": "code",
      "source": [
        "P = 1 / combo(10, 3)\n",
        "print(f'Вероятность  того, что человек, не знающий код, откроет дверь с первой попытки = {round(P, 4)}')"
      ],
      "metadata": {
        "colab": {
          "base_uri": "https://localhost:8080/"
        },
        "id": "cajozwkfWV8a",
        "outputId": "905b3afc-129a-414a-c81c-df332df1fa53"
      },
      "execution_count": 31,
      "outputs": [
        {
          "output_type": "stream",
          "name": "stdout",
          "text": [
            "Вероятность  того, что человек, не знающий код, откроет дверь с первой попытки = 0.0083\n"
          ]
        }
      ]
    },
    {
      "cell_type": "markdown",
      "source": [
        "В ящике имеется 15 деталей, из которых 9 окрашены.\n",
        "Рабочий случайным образом извлекает 3 детали.\n",
        "Какова вероятность того, что все извлеченные детали окрашены?"
      ],
      "metadata": {
        "id": "O_cwjUzyX5B-"
      }
    },
    {
      "cell_type": "code",
      "source": [
        "P = combo(9, 3) / combo(15, 3)\n",
        "print(f'Вероятность того, что все извлеченные детали окрашены = {round(P,4)}')"
      ],
      "metadata": {
        "colab": {
          "base_uri": "https://localhost:8080/"
        },
        "id": "VwWn0xHnYHu6",
        "outputId": "12e5964a-5b7a-4783-8069-fa674d61d67a"
      },
      "execution_count": 29,
      "outputs": [
        {
          "output_type": "stream",
          "name": "stdout",
          "text": [
            "Вероятность того, что все извлеченные детали окрашены = 0.1846\n"
          ]
        }
      ]
    },
    {
      "cell_type": "markdown",
      "source": [
        "В лотерее 100 билетов. Из них 2 выигрышных.\n",
        "Какова вероятность того, что 2 приобретенных билета окажутся выигрышными?"
      ],
      "metadata": {
        "id": "90a8jQc6Y5xL"
      }
    },
    {
      "cell_type": "code",
      "source": [
        "P = 1 / combo(100, 2)\n",
        "print(f'Вероятность того, что 2 приобретенных билета окажутся выигрышными = {round(P, 4)})')"
      ],
      "metadata": {
        "colab": {
          "base_uri": "https://localhost:8080/"
        },
        "id": "o7R1lmpIY-LT",
        "outputId": "9bc3d2b9-3e27-429b-9a62-36f42ace1b95"
      },
      "execution_count": 30,
      "outputs": [
        {
          "output_type": "stream",
          "name": "stdout",
          "text": [
            "Вероятность того, что 2 приобретенных билета окажутся выигрышными = 0.0002)\n"
          ]
        }
      ]
    }
  ]
}