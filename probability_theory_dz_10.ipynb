{
  "nbformat": 4,
  "nbformat_minor": 0,
  "metadata": {
    "colab": {
      "provenance": [],
      "include_colab_link": true
    },
    "kernelspec": {
      "name": "python3",
      "display_name": "Python 3"
    },
    "language_info": {
      "name": "python"
    }
  },
  "cells": [
    {
      "cell_type": "markdown",
      "metadata": {
        "id": "view-in-github",
        "colab_type": "text"
      },
      "source": [
        "<a href=\"https://colab.research.google.com/github/Alino4kaAlino4ka/probability_theory_and_math_statistics/blob/main/probability_theory_dz_10.ipynb\" target=\"_parent\"><img src=\"https://colab.research.google.com/assets/colab-badge.svg\" alt=\"Open In Colab\"/></a>"
      ]
    },
    {
      "cell_type": "markdown",
      "source": [
        "Теория вероятностей и математическая статистика (семинары)\n",
        "\n",
        "Урок 10. Дисперсионный анализ"
      ],
      "metadata": {
        "id": "85HML1GXr5aD"
      }
    },
    {
      "cell_type": "markdown",
      "source": [
        "Провести дисперсионный анализ для определения того, есть ли различия среднего роста среди взрослых футболистов, хоккеистов и штангистов.\n",
        "Даны значения роста в трех группах случайно выбранных спортсменов:\n",
        "\n",
        "Футболисты: 173, 175, 180, 178, 177, 185, 183, 182.\n",
        "\n",
        "Хоккеисты: 177, 179, 180, 188, 177, 172, 171, 184, 180.\n",
        "\n",
        "Штангисты: 172, 173, 169, 177, 166, 180, 178, 177, 172, 166, 170."
      ],
      "metadata": {
        "id": "ToJXYvbhr973"
      }
    },
    {
      "cell_type": "code",
      "execution_count": null,
      "metadata": {
        "id": "eDG3oU9MmPov"
      },
      "outputs": [],
      "source": [
        "import numpy as np\n",
        "import pandas as pd\n",
        "from scipy import stats\n",
        "from statsmodels.stats.multicomp import pairwise_tukeyhsd"
      ]
    },
    {
      "cell_type": "code",
      "source": [
        "ftb = np.array([173, 175, 180, 178, 177, 185, 183, 182])\n",
        "hck = np.array([177, 179, 180, 188, 177, 172, 171, 184, 180])\n",
        "brb = np.array([172, 173, 169, 177, 166, 180, 178, 177, 172, 166, 170])\n",
        "\n",
        "ftb, hck, brb"
      ],
      "metadata": {
        "colab": {
          "base_uri": "https://localhost:8080/"
        },
        "id": "C9Y4ZDD2r9U6",
        "outputId": "d78f9592-c7a7-4d9a-9ac1-761c2fd94ba4"
      },
      "execution_count": null,
      "outputs": [
        {
          "output_type": "execute_result",
          "data": {
            "text/plain": [
              "(array([173, 175, 180, 178, 177, 185, 183, 182]),\n",
              " array([177, 179, 180, 188, 177, 172, 171, 184, 180]),\n",
              " array([172, 173, 169, 177, 166, 180, 178, 177, 172, 166, 170]))"
            ]
          },
          "metadata": {},
          "execution_count": 3
        }
      ]
    },
    {
      "cell_type": "code",
      "source": [
        "stats.shapiro(ftb)"
      ],
      "metadata": {
        "colab": {
          "base_uri": "https://localhost:8080/"
        },
        "id": "u3wVInQNt5in",
        "outputId": "4aa1f350-ab7c-4463-f6c9-830ac95dc713"
      },
      "execution_count": null,
      "outputs": [
        {
          "output_type": "execute_result",
          "data": {
            "text/plain": [
              "ShapiroResult(statistic=0.9775081276893616, pvalue=0.9495397210121155)"
            ]
          },
          "metadata": {},
          "execution_count": 4
        }
      ]
    },
    {
      "cell_type": "code",
      "source": [
        "stats.shapiro(hck)"
      ],
      "metadata": {
        "colab": {
          "base_uri": "https://localhost:8080/"
        },
        "id": "lMC45S0nuHZe",
        "outputId": "560bb0ec-9727-4466-ff2e-a2cb409f77df"
      },
      "execution_count": null,
      "outputs": [
        {
          "output_type": "execute_result",
          "data": {
            "text/plain": [
              "ShapiroResult(statistic=0.9579195976257324, pvalue=0.7763133645057678)"
            ]
          },
          "metadata": {},
          "execution_count": 5
        }
      ]
    },
    {
      "cell_type": "code",
      "source": [
        "stats.shapiro(brb)"
      ],
      "metadata": {
        "colab": {
          "base_uri": "https://localhost:8080/"
        },
        "id": "l_M8zMReuHwE",
        "outputId": "0df7192d-4f17-4770-fa6c-9d02ea4edac4"
      },
      "execution_count": null,
      "outputs": [
        {
          "output_type": "execute_result",
          "data": {
            "text/plain": [
              "ShapiroResult(statistic=0.93868088722229, pvalue=0.5051169991493225)"
            ]
          },
          "metadata": {},
          "execution_count": 6
        }
      ]
    },
    {
      "cell_type": "code",
      "source": [
        "stats.bartlett(ftb, hck, brb)"
      ],
      "metadata": {
        "colab": {
          "base_uri": "https://localhost:8080/"
        },
        "id": "FgthvQHUuH3r",
        "outputId": "f9a88261-8a45-4b91-ad98-3df3cbe943fb"
      },
      "execution_count": null,
      "outputs": [
        {
          "output_type": "execute_result",
          "data": {
            "text/plain": [
              "BartlettResult(statistic=0.4640521043406442, pvalue=0.7929254656083131)"
            ]
          },
          "metadata": {},
          "execution_count": 7
        }
      ]
    },
    {
      "cell_type": "code",
      "source": [
        "stats.kruskal(ftb, hck, brb)"
      ],
      "metadata": {
        "colab": {
          "base_uri": "https://localhost:8080/"
        },
        "id": "k9vobFR4ukiG",
        "outputId": "0984929d-ea1c-4277-e32f-38eab6d6f255"
      },
      "execution_count": null,
      "outputs": [
        {
          "output_type": "execute_result",
          "data": {
            "text/plain": [
              "KruskalResult(statistic=7.897493213863828, pvalue=0.01927885061595347)"
            ]
          },
          "metadata": {},
          "execution_count": 8
        }
      ]
    },
    {
      "cell_type": "code",
      "source": [
        "df = pd.DataFrame({\"score\":[173, 175, 180, 178, 177, 185, 183, 182, \n",
        "                         177, 179, 180, 188, 177, 172, 171, 184, 180, \n",
        "                         172, 173, 169, 177, 166, 180, 178, 177, 172, 166, 170], \n",
        "                 \"group\": np.repeat([\"soccer_players\",\"hockey_players\",\"weightlifter\"], repeats=(8, 9, 11))})\n",
        "df"
      ],
      "metadata": {
        "colab": {
          "base_uri": "https://localhost:8080/",
          "height": 927
        },
        "id": "i76nhiQY4spr",
        "outputId": "554702fc-3659-4066-82b7-f22df3cafbb2"
      },
      "execution_count": null,
      "outputs": [
        {
          "output_type": "execute_result",
          "data": {
            "text/plain": [
              "    score           group\n",
              "0     173  soccer_players\n",
              "1     175  soccer_players\n",
              "2     180  soccer_players\n",
              "3     178  soccer_players\n",
              "4     177  soccer_players\n",
              "5     185  soccer_players\n",
              "6     183  soccer_players\n",
              "7     182  soccer_players\n",
              "8     177  hockey_players\n",
              "9     179  hockey_players\n",
              "10    180  hockey_players\n",
              "11    188  hockey_players\n",
              "12    177  hockey_players\n",
              "13    172  hockey_players\n",
              "14    171  hockey_players\n",
              "15    184  hockey_players\n",
              "16    180  hockey_players\n",
              "17    172    weightlifter\n",
              "18    173    weightlifter\n",
              "19    169    weightlifter\n",
              "20    177    weightlifter\n",
              "21    166    weightlifter\n",
              "22    180    weightlifter\n",
              "23    178    weightlifter\n",
              "24    177    weightlifter\n",
              "25    172    weightlifter\n",
              "26    166    weightlifter\n",
              "27    170    weightlifter"
            ],
            "text/html": [
              "\n",
              "  <div id=\"df-9f52422b-70b9-419b-91f6-f34f12f4c2d4\">\n",
              "    <div class=\"colab-df-container\">\n",
              "      <div>\n",
              "<style scoped>\n",
              "    .dataframe tbody tr th:only-of-type {\n",
              "        vertical-align: middle;\n",
              "    }\n",
              "\n",
              "    .dataframe tbody tr th {\n",
              "        vertical-align: top;\n",
              "    }\n",
              "\n",
              "    .dataframe thead th {\n",
              "        text-align: right;\n",
              "    }\n",
              "</style>\n",
              "<table border=\"1\" class=\"dataframe\">\n",
              "  <thead>\n",
              "    <tr style=\"text-align: right;\">\n",
              "      <th></th>\n",
              "      <th>score</th>\n",
              "      <th>group</th>\n",
              "    </tr>\n",
              "  </thead>\n",
              "  <tbody>\n",
              "    <tr>\n",
              "      <th>0</th>\n",
              "      <td>173</td>\n",
              "      <td>soccer_players</td>\n",
              "    </tr>\n",
              "    <tr>\n",
              "      <th>1</th>\n",
              "      <td>175</td>\n",
              "      <td>soccer_players</td>\n",
              "    </tr>\n",
              "    <tr>\n",
              "      <th>2</th>\n",
              "      <td>180</td>\n",
              "      <td>soccer_players</td>\n",
              "    </tr>\n",
              "    <tr>\n",
              "      <th>3</th>\n",
              "      <td>178</td>\n",
              "      <td>soccer_players</td>\n",
              "    </tr>\n",
              "    <tr>\n",
              "      <th>4</th>\n",
              "      <td>177</td>\n",
              "      <td>soccer_players</td>\n",
              "    </tr>\n",
              "    <tr>\n",
              "      <th>5</th>\n",
              "      <td>185</td>\n",
              "      <td>soccer_players</td>\n",
              "    </tr>\n",
              "    <tr>\n",
              "      <th>6</th>\n",
              "      <td>183</td>\n",
              "      <td>soccer_players</td>\n",
              "    </tr>\n",
              "    <tr>\n",
              "      <th>7</th>\n",
              "      <td>182</td>\n",
              "      <td>soccer_players</td>\n",
              "    </tr>\n",
              "    <tr>\n",
              "      <th>8</th>\n",
              "      <td>177</td>\n",
              "      <td>hockey_players</td>\n",
              "    </tr>\n",
              "    <tr>\n",
              "      <th>9</th>\n",
              "      <td>179</td>\n",
              "      <td>hockey_players</td>\n",
              "    </tr>\n",
              "    <tr>\n",
              "      <th>10</th>\n",
              "      <td>180</td>\n",
              "      <td>hockey_players</td>\n",
              "    </tr>\n",
              "    <tr>\n",
              "      <th>11</th>\n",
              "      <td>188</td>\n",
              "      <td>hockey_players</td>\n",
              "    </tr>\n",
              "    <tr>\n",
              "      <th>12</th>\n",
              "      <td>177</td>\n",
              "      <td>hockey_players</td>\n",
              "    </tr>\n",
              "    <tr>\n",
              "      <th>13</th>\n",
              "      <td>172</td>\n",
              "      <td>hockey_players</td>\n",
              "    </tr>\n",
              "    <tr>\n",
              "      <th>14</th>\n",
              "      <td>171</td>\n",
              "      <td>hockey_players</td>\n",
              "    </tr>\n",
              "    <tr>\n",
              "      <th>15</th>\n",
              "      <td>184</td>\n",
              "      <td>hockey_players</td>\n",
              "    </tr>\n",
              "    <tr>\n",
              "      <th>16</th>\n",
              "      <td>180</td>\n",
              "      <td>hockey_players</td>\n",
              "    </tr>\n",
              "    <tr>\n",
              "      <th>17</th>\n",
              "      <td>172</td>\n",
              "      <td>weightlifter</td>\n",
              "    </tr>\n",
              "    <tr>\n",
              "      <th>18</th>\n",
              "      <td>173</td>\n",
              "      <td>weightlifter</td>\n",
              "    </tr>\n",
              "    <tr>\n",
              "      <th>19</th>\n",
              "      <td>169</td>\n",
              "      <td>weightlifter</td>\n",
              "    </tr>\n",
              "    <tr>\n",
              "      <th>20</th>\n",
              "      <td>177</td>\n",
              "      <td>weightlifter</td>\n",
              "    </tr>\n",
              "    <tr>\n",
              "      <th>21</th>\n",
              "      <td>166</td>\n",
              "      <td>weightlifter</td>\n",
              "    </tr>\n",
              "    <tr>\n",
              "      <th>22</th>\n",
              "      <td>180</td>\n",
              "      <td>weightlifter</td>\n",
              "    </tr>\n",
              "    <tr>\n",
              "      <th>23</th>\n",
              "      <td>178</td>\n",
              "      <td>weightlifter</td>\n",
              "    </tr>\n",
              "    <tr>\n",
              "      <th>24</th>\n",
              "      <td>177</td>\n",
              "      <td>weightlifter</td>\n",
              "    </tr>\n",
              "    <tr>\n",
              "      <th>25</th>\n",
              "      <td>172</td>\n",
              "      <td>weightlifter</td>\n",
              "    </tr>\n",
              "    <tr>\n",
              "      <th>26</th>\n",
              "      <td>166</td>\n",
              "      <td>weightlifter</td>\n",
              "    </tr>\n",
              "    <tr>\n",
              "      <th>27</th>\n",
              "      <td>170</td>\n",
              "      <td>weightlifter</td>\n",
              "    </tr>\n",
              "  </tbody>\n",
              "</table>\n",
              "</div>\n",
              "      <button class=\"colab-df-convert\" onclick=\"convertToInteractive('df-9f52422b-70b9-419b-91f6-f34f12f4c2d4')\"\n",
              "              title=\"Convert this dataframe to an interactive table.\"\n",
              "              style=\"display:none;\">\n",
              "        \n",
              "  <svg xmlns=\"http://www.w3.org/2000/svg\" height=\"24px\"viewBox=\"0 0 24 24\"\n",
              "       width=\"24px\">\n",
              "    <path d=\"M0 0h24v24H0V0z\" fill=\"none\"/>\n",
              "    <path d=\"M18.56 5.44l.94 2.06.94-2.06 2.06-.94-2.06-.94-.94-2.06-.94 2.06-2.06.94zm-11 1L8.5 8.5l.94-2.06 2.06-.94-2.06-.94L8.5 2.5l-.94 2.06-2.06.94zm10 10l.94 2.06.94-2.06 2.06-.94-2.06-.94-.94-2.06-.94 2.06-2.06.94z\"/><path d=\"M17.41 7.96l-1.37-1.37c-.4-.4-.92-.59-1.43-.59-.52 0-1.04.2-1.43.59L10.3 9.45l-7.72 7.72c-.78.78-.78 2.05 0 2.83L4 21.41c.39.39.9.59 1.41.59.51 0 1.02-.2 1.41-.59l7.78-7.78 2.81-2.81c.8-.78.8-2.07 0-2.86zM5.41 20L4 18.59l7.72-7.72 1.47 1.35L5.41 20z\"/>\n",
              "  </svg>\n",
              "      </button>\n",
              "      \n",
              "  <style>\n",
              "    .colab-df-container {\n",
              "      display:flex;\n",
              "      flex-wrap:wrap;\n",
              "      gap: 12px;\n",
              "    }\n",
              "\n",
              "    .colab-df-convert {\n",
              "      background-color: #E8F0FE;\n",
              "      border: none;\n",
              "      border-radius: 50%;\n",
              "      cursor: pointer;\n",
              "      display: none;\n",
              "      fill: #1967D2;\n",
              "      height: 32px;\n",
              "      padding: 0 0 0 0;\n",
              "      width: 32px;\n",
              "    }\n",
              "\n",
              "    .colab-df-convert:hover {\n",
              "      background-color: #E2EBFA;\n",
              "      box-shadow: 0px 1px 2px rgba(60, 64, 67, 0.3), 0px 1px 3px 1px rgba(60, 64, 67, 0.15);\n",
              "      fill: #174EA6;\n",
              "    }\n",
              "\n",
              "    [theme=dark] .colab-df-convert {\n",
              "      background-color: #3B4455;\n",
              "      fill: #D2E3FC;\n",
              "    }\n",
              "\n",
              "    [theme=dark] .colab-df-convert:hover {\n",
              "      background-color: #434B5C;\n",
              "      box-shadow: 0px 1px 3px 1px rgba(0, 0, 0, 0.15);\n",
              "      filter: drop-shadow(0px 1px 2px rgba(0, 0, 0, 0.3));\n",
              "      fill: #FFFFFF;\n",
              "    }\n",
              "  </style>\n",
              "\n",
              "      <script>\n",
              "        const buttonEl =\n",
              "          document.querySelector('#df-9f52422b-70b9-419b-91f6-f34f12f4c2d4 button.colab-df-convert');\n",
              "        buttonEl.style.display =\n",
              "          google.colab.kernel.accessAllowed ? 'block' : 'none';\n",
              "\n",
              "        async function convertToInteractive(key) {\n",
              "          const element = document.querySelector('#df-9f52422b-70b9-419b-91f6-f34f12f4c2d4');\n",
              "          const dataTable =\n",
              "            await google.colab.kernel.invokeFunction('convertToInteractive',\n",
              "                                                     [key], {});\n",
              "          if (!dataTable) return;\n",
              "\n",
              "          const docLinkHtml = 'Like what you see? Visit the ' +\n",
              "            '<a target=\"_blank\" href=https://colab.research.google.com/notebooks/data_table.ipynb>data table notebook</a>'\n",
              "            + ' to learn more about interactive tables.';\n",
              "          element.innerHTML = '';\n",
              "          dataTable['output_type'] = 'display_data';\n",
              "          await google.colab.output.renderOutput(dataTable, element);\n",
              "          const docLink = document.createElement('div');\n",
              "          docLink.innerHTML = docLinkHtml;\n",
              "          element.appendChild(docLink);\n",
              "        }\n",
              "      </script>\n",
              "    </div>\n",
              "  </div>\n",
              "  "
            ]
          },
          "metadata": {},
          "execution_count": 17
        }
      ]
    },
    {
      "cell_type": "code",
      "source": [
        "tukey = pairwise_tukeyhsd(df[\"score\"], df[\"group\"], alpha=0.05)\n",
        "print(tukey)"
      ],
      "metadata": {
        "colab": {
          "base_uri": "https://localhost:8080/"
        },
        "id": "thT0WzWq6leq",
        "outputId": "657a9242-6b06-491d-9bcd-df5339ab14d3"
      },
      "execution_count": null,
      "outputs": [
        {
          "output_type": "stream",
          "name": "stdout",
          "text": [
            "         Multiple Comparison of Means - Tukey HSD, FWER=0.05         \n",
            "=====================================================================\n",
            "    group1         group2     meandiff p-adj   lower    upper  reject\n",
            "---------------------------------------------------------------------\n",
            "hockey_players soccer_players   0.4583    0.9  -5.3555  6.2722  False\n",
            "hockey_players   weightlifter  -5.9394 0.0283 -11.3172 -0.5616   True\n",
            "soccer_players   weightlifter  -6.3977 0.0218 -11.9573 -0.8382   True\n",
            "---------------------------------------------------------------------\n"
          ]
        }
      ]
    },
    {
      "cell_type": "code",
      "source": [
        "stats.f_oneway(ftb, hck, brb)  # функция однофакторного анализа"
      ],
      "metadata": {
        "colab": {
          "base_uri": "https://localhost:8080/"
        },
        "id": "WU-2rXIK5Dwv",
        "outputId": "73192fde-7d46-4ac8-d2f9-451590d31639"
      },
      "execution_count": null,
      "outputs": [
        {
          "output_type": "execute_result",
          "data": {
            "text/plain": [
              "F_onewayResult(statistic=5.500053450812596, pvalue=0.010482206918698694)"
            ]
          },
          "metadata": {},
          "execution_count": 20
        }
      ]
    }
  ]
}