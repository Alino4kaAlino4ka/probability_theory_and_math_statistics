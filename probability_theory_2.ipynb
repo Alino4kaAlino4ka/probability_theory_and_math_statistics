{
  "nbformat": 4,
  "nbformat_minor": 0,
  "metadata": {
    "colab": {
      "provenance": [],
      "authorship_tag": "ABX9TyMJmwaOIYaNc1B23nikUOhO",
      "include_colab_link": true
    },
    "kernelspec": {
      "name": "python3",
      "display_name": "Python 3"
    },
    "language_info": {
      "name": "python"
    }
  },
  "cells": [
    {
      "cell_type": "markdown",
      "metadata": {
        "id": "view-in-github",
        "colab_type": "text"
      },
      "source": [
        "<a href=\"https://colab.research.google.com/github/Alino4kaAlino4ka/probability_theory_and_math_statistics/blob/main/probability_theory_2.ipynb\" target=\"_parent\"><img src=\"https://colab.research.google.com/assets/colab-badge.svg\" alt=\"Open In Colab\"/></a>"
      ]
    },
    {
      "cell_type": "markdown",
      "source": [
        "Теория вероятностей и математическая статистика (семинары)\n",
        "Урок 2. Дискретные распределения вероятностей"
      ],
      "metadata": {
        "id": "khJaUBZ5jmHj"
      }
    },
    {
      "cell_type": "markdown",
      "source": [
        "Вероятность того, что стрелок попадет в мишень, выстрелив один раз, равна 0.8. Стрелок выстрелил 100 раз. Найдите вероятность того, что стрелок попадет в цель ровно 85 раз."
      ],
      "metadata": {
        "id": "tYn3lOANjqDT"
      }
    },
    {
      "cell_type": "code",
      "source": [
        "from math import factorial, exp"
      ],
      "metadata": {
        "id": "whzAfuMEkHQP"
      },
      "execution_count": 2,
      "outputs": []
    },
    {
      "cell_type": "code",
      "source": [
        "def bernulli(n, k, p):\n",
        "    combo = factorial(n) // (factorial(k) * factorial(n-k))\n",
        "    return combo * (p ** k) * (1 - p) ** (n - k)\n",
        "\n",
        "\n",
        "P = bernulli(100, 85, .8)\n",
        "print(f'Вероятность того, что стрелок попадет в цель ровно 85 раз = {P:.3f} или {round(P * 100, 1)}%')"
      ],
      "metadata": {
        "colab": {
          "base_uri": "https://localhost:8080/"
        },
        "id": "dHroV83tkJiG",
        "outputId": "0d062c50-8578-46d9-9af6-6629f516eccc"
      },
      "execution_count": 16,
      "outputs": [
        {
          "output_type": "stream",
          "name": "stdout",
          "text": [
            "Вероятность того, что стрелок попадет в цель ровно 85 раз = 0.048 или 4.8%\n"
          ]
        }
      ]
    },
    {
      "cell_type": "markdown",
      "source": [
        "Вероятность того, что лампочка перегорит в течение первого дня эксплуатации, равна 0.0004. В жилом комплексе после ремонта в один день включили 5000 новых лампочек. Какова вероятность, что ни одна из них не перегорит в первый день? Какова вероятность, что перегорят ровно две?"
      ],
      "metadata": {
        "id": "Z2WaQ8EVnYfY"
      }
    },
    {
      "cell_type": "code",
      "source": [
        "def broken_light(m, p, n):\n",
        "    lambd = p * n\n",
        "    return exp(-lambd) * (lambd ** m) / factorial(m)\n",
        "\n",
        "\n",
        "print(f'Вероятность, что ни одна из них не перегорит в первый день = {broken_light(0, 0.0004, 5000):.3f}')\n",
        "print(f'Вероятность, что перегорят ровно две = {broken_light(2, 0.0004, 5000):.3f}')\n"
      ],
      "metadata": {
        "colab": {
          "base_uri": "https://localhost:8080/"
        },
        "id": "V4t4aIxFnd-c",
        "outputId": "f247502c-42ec-4413-c2c8-8a341a342ddf"
      },
      "execution_count": 21,
      "outputs": [
        {
          "output_type": "stream",
          "name": "stdout",
          "text": [
            "Вероятность, что ни одна из них не перегорит в первый день = 0.135\n",
            "Вероятность, что перегорят ровно две = 0.271\n"
          ]
        }
      ]
    },
    {
      "cell_type": "markdown",
      "source": [
        "Монету подбросили 144 раза. Какова вероятность, что орел выпадет ровно 70 раз?\n"
      ],
      "metadata": {
        "id": "iGW550EoqSOX"
      }
    },
    {
      "cell_type": "code",
      "source": [
        "print(f'Вероятность, что орел выпадет ровно 70 раз = {bernulli(144,70,0.5): .3f}')\n"
      ],
      "metadata": {
        "colab": {
          "base_uri": "https://localhost:8080/"
        },
        "id": "D2IvIBdzqXj6",
        "outputId": "67f7bd41-2fa0-48cb-9186-c5a203ce9f76"
      },
      "execution_count": 23,
      "outputs": [
        {
          "output_type": "stream",
          "name": "stdout",
          "text": [
            "Вероятность, что орел выпадет ровно 70 раз =  0.063\n"
          ]
        }
      ]
    },
    {
      "cell_type": "markdown",
      "source": [
        "В первом ящике находится 10 мячей, из которых 7 - белые. Во втором ящике - 11 мячей, из которых 9 белых. Из каждого ящика вытаскивают случайным образом по два мяча. Какова вероятность того, что все мячи белые? Какова вероятность того, что ровно два мяча белые? Какова вероятность того, что хотя бы один мяч белый?"
      ],
      "metadata": {
        "id": "rf1FiSKEquts"
      }
    },
    {
      "cell_type": "code",
      "source": [
        "def combinations(n, k):\n",
        "    return int(factorial(n) // (factorial(k) * factorial(n - k)))\n"
      ],
      "metadata": {
        "id": "312z2DwHqwwg"
      },
      "execution_count": 30,
      "outputs": []
    },
    {
      "cell_type": "code",
      "source": [
        "n1 = combinations(10, 2)\n",
        "n2 = combinations(11, 2)\n",
        "print(f'Общее число элементарных исходов для первой корзины: n1 = {n1}\\n'\n",
        "      f'Общее число элементарных исходов для второй корзины: n2 = {n2}')\n",
        "\n",
        "m1 = combinations(7, 2)\n",
        "m2 = combinations(9, 2)\n",
        "print(f'Число благоприятных элементарных исходов для события А: m1 = {combinations(7,2)}\\n'\n",
        "      f'Число благоприятных элементарных исходов для события В: m2 = {combinations(9,2)}')\n",
        "\n",
        "print(f'Вероятность наступления события А, Р(А) = {m1/n1: .4f}\\n'\n",
        "      f'Вероятность наступления события В, Р(В) = {m2/n2: .4f}\\n'\n",
        "      f'Вероятность одновременного наступления событий А и В, Р(А+В) = {(m1/n1)*(m2/n2):.3f}')"
      ],
      "metadata": {
        "colab": {
          "base_uri": "https://localhost:8080/"
        },
        "id": "AnyMMN5Rtnyi",
        "outputId": "7d87acad-fada-4341-dedd-d2b0cc05ecfe"
      },
      "execution_count": 33,
      "outputs": [
        {
          "output_type": "stream",
          "name": "stdout",
          "text": [
            "Общее число элементарных исходов для первой корзины: n1 = 45\n",
            "Общее число элементарных исходов для второй корзины: n2 = 55\n",
            "Число благоприятных элементарных исходов для события А: m1 = 21\n",
            "Число благоприятных элементарных исходов для события В: m2 = 36\n",
            "Вероятность наступления события А, Р(А) =  0.4667\n",
            "Вероятность наступления события В, Р(В) =  0.6545\n",
            "Вероятность одновременного наступления событий А и В, Р(А+В) = 0.305\n"
          ]
        }
      ]
    },
    {
      "cell_type": "code",
      "source": [
        "P = (7/10) * (6/9) * (9/11) * (8/10)\n",
        "print(f'Вероятность того, что все мячи белые = {P:.3f}')"
      ],
      "metadata": {
        "colab": {
          "base_uri": "https://localhost:8080/"
        },
        "id": "CVVzm8U4seCr",
        "outputId": "496742fa-9788-4cce-c4f1-cffda2ceb935"
      },
      "execution_count": 32,
      "outputs": [
        {
          "output_type": "stream",
          "name": "stdout",
          "text": [
            "Вероятность того, что все мячи белые = 0.305\n"
          ]
        }
      ]
    },
    {
      "cell_type": "code",
      "source": [
        "m_A = combinations(7, 2)\n",
        "m_B = combinations(2,  2)\n",
        "m_C = combinations(7, 1) * combinations(3, 1)\n",
        "m_D = combinations(9, 1) * combinations(2, 1)\n",
        "m_E = combinations(3, 2)\n",
        "m_F = combinations(9, 2)\n",
        "print(f'Число благоприятных элементарных исходов для события А: m_A = {m_A}\\n'\n",
        "      f'Число благоприятных элементарных исходов для события B: m_B = {m_B}\\n'\n",
        "      f'Число благоприятных элементарных исходов для события C: m_C = {m_C}\\n'\n",
        "      f'Число благоприятных элементарных исходов для события D: m_D = {m_D}\\n'\n",
        "      f'Число благоприятных элементарных исходов для события E: m_E = {m_E}\\n'\n",
        "      f'Число благоприятных элементарных исходов для события F: m_F = {m_F}\\n')\n",
        "\n",
        "P = (m_A/n1)*(m_B/n2)+(m_C/n1)*(m_D/n2)+(m_E/n1)*(m_F/n2)\n",
        "print(f'Вероятность того, что ровно 2 мяча белые = {P:.3f}')"
      ],
      "metadata": {
        "colab": {
          "base_uri": "https://localhost:8080/"
        },
        "id": "S8yF-IDktnAE",
        "outputId": "ff8f9be6-6dfe-4681-a570-438b48a59c43"
      },
      "execution_count": 36,
      "outputs": [
        {
          "output_type": "stream",
          "name": "stdout",
          "text": [
            "Число благоприятных элементарных исходов для события А: m_A = 21\n",
            "Число благоприятных элементарных исходов для события B: m_B = 1\n",
            "Число благоприятных элементарных исходов для события C: m_C = 21\n",
            "Число благоприятных элементарных исходов для события D: m_D = 18\n",
            "Число благоприятных элементарных исходов для события E: m_E = 3\n",
            "Число благоприятных элементарных исходов для события F: m_F = 36\n",
            "\n",
            "Вероятность того, что будут вытащены ровно 2 белых мяча Р = 0.205\n"
          ]
        }
      ]
    },
    {
      "cell_type": "code",
      "source": [
        "P1 = ((7/10)*(6/9)*(2/11)*(1/10))+4*((7/10)*(3/9)*(9/11)*(2/10))+((3/10)*(2/9)*(9/11)*(8/10))\n",
        "print(f'Вероятность того, что ровно 2 мяча белые = {P1:.3f}')"
      ],
      "metadata": {
        "colab": {
          "base_uri": "https://localhost:8080/"
        },
        "id": "r2eopRNjulXZ",
        "outputId": "007d7ac5-6321-45dc-e6cb-df80be3dd140"
      },
      "execution_count": 37,
      "outputs": [
        {
          "output_type": "stream",
          "name": "stdout",
          "text": [
            "Вероятность того, что будут вытащены ровно 2 белых мяча Р = 0.205\n"
          ]
        }
      ]
    },
    {
      "cell_type": "code",
      "source": [
        "m1 = combinations(3, 2)\n",
        "m2 = combinations(2, 2)\n",
        "print(f'Число благоприятных элементарных исходов для первой корзины: m1 = {combinations(3,2)}\\n'\n",
        "      f'Число благоприятных элементарных исходов для второй корзины: m2 = {combinations(2,2)}\\n')\n",
        "\n",
        "print(f'Вероятность того, что не будет извлечено ни одного белого мяча Р(А_обр) = {(m1/n1)*(m2/n2):.3f}\\n'\n",
        "      f'Вероятность того, что будет извлечен хотя бы один белый мяч Р(А) = 1 - Р(А_обр) = {1-(m1/n1)*(m2/n2):.3f}')"
      ],
      "metadata": {
        "colab": {
          "base_uri": "https://localhost:8080/"
        },
        "id": "iZwjvcOcvBtb",
        "outputId": "ab5bbce1-9d19-43ed-fd2f-285dc731a94d"
      },
      "execution_count": 40,
      "outputs": [
        {
          "output_type": "stream",
          "name": "stdout",
          "text": [
            "Число благоприятных элементарных исходов для первой корзины: m1 = 3\n",
            "Число благоприятных элементарных исходов для второй корзины: m2 = 1\n",
            "\n",
            "Вероятность того, что не будет извлечено ни одного белого мяча Р(А_обр) = 0.001\n",
            "Вероятность того, что будет извлечен хотя бы один белый мяч Р(А) = 1 - Р(А_обр) = 0.999\n"
          ]
        }
      ]
    },
    {
      "cell_type": "code",
      "source": [
        "P = 1-(3/10)*(2/9)*(2/11)*(1/10)\n",
        "print(f'Вероятность того, что хотя бы один мяч белый = {P:.3f}')"
      ],
      "metadata": {
        "colab": {
          "base_uri": "https://localhost:8080/"
        },
        "id": "AkX1J011vY5a",
        "outputId": "b41ec1ff-621d-42fc-f622-c0a812254a67"
      },
      "execution_count": 42,
      "outputs": [
        {
          "output_type": "stream",
          "name": "stdout",
          "text": [
            "Вероятность того, что хотя бы один мяч белый = 0.999\n"
          ]
        }
      ]
    }
  ]
}