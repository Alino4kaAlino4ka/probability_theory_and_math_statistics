{
  "nbformat": 4,
  "nbformat_minor": 0,
  "metadata": {
    "colab": {
      "provenance": [],
      "authorship_tag": "ABX9TyOXAhCyx8vwjEeBRNLOtcve",
      "include_colab_link": true
    },
    "kernelspec": {
      "name": "python3",
      "display_name": "Python 3"
    },
    "language_info": {
      "name": "python"
    }
  },
  "cells": [
    {
      "cell_type": "markdown",
      "metadata": {
        "id": "view-in-github",
        "colab_type": "text"
      },
      "source": [
        "<a href=\"https://colab.research.google.com/github/Alino4kaAlino4ka/probability_theory_and_math_statistics/blob/main/probability_theory_dz_6.ipynb\" target=\"_parent\"><img src=\"https://colab.research.google.com/assets/colab-badge.svg\" alt=\"Open In Colab\"/></a>"
      ]
    },
    {
      "cell_type": "markdown",
      "source": [
        "Теория вероятностей и математическая статистика (семинары)\n",
        "\n",
        "Урок 6. Сравнение долей. Построение доверительного интервала"
      ],
      "metadata": {
        "id": "H7xO_yge0Y_W"
      }
    },
    {
      "cell_type": "markdown",
      "source": [
        "Известно, что генеральная совокупность распределена нормально со средним квадратическим отклонением, равным 16. Найти доверительный интервал для оценки математического ожидания a с надежностью 0.95, если выборочная средняя M = 80, а объем выборки n = 256."
      ],
      "metadata": {
        "id": "adFbAqo80YsL"
      }
    },
    {
      "cell_type": "markdown",
      "source": [],
      "metadata": {
        "id": "72hSDzteqy6B"
      }
    },
    {
      "cell_type": "code",
      "execution_count": null,
      "metadata": {
        "id": "va54thbX0W_K"
      },
      "outputs": [],
      "source": [
        "import scipy.stats as stats\n",
        "import numpy as np"
      ]
    },
    {
      "cell_type": "code",
      "source": [
        "n = 256\n",
        "M = 80\n",
        "d = 16 ** 2 "
      ],
      "metadata": {
        "id": "XjYwZSuN08DG"
      },
      "execution_count": null,
      "outputs": []
    },
    {
      "cell_type": "code",
      "source": [
        "left = M - (1.96 * d ** 0.5) / n ** 0.5\n",
        "right = M + (1.96 * d ** 0.5) / n ** 0.5\n",
        "print(f'95%-й доверительный интервал для оценки мат. ожидания генеральной совокупности: [{left:.3f} ; {right:.3f}].')"
      ],
      "metadata": {
        "colab": {
          "base_uri": "https://localhost:8080/"
        },
        "id": "MHNqSVZ7Aa8T",
        "outputId": "9e633e70-d8c2-4312-e4a5-797f0ab85ce6"
      },
      "execution_count": null,
      "outputs": [
        {
          "output_type": "stream",
          "name": "stdout",
          "text": [
            "95%-й доверительный интервал для оценки мат. ожидания генеральной совокупности: [78.040 ; 81.960].\n"
          ]
        }
      ]
    },
    {
      "cell_type": "markdown",
      "source": [
        "---\n",
        "---\n",
        "В результате 10 независимых измерений некоторой величины X, выполненных с одинаковой точностью, получены опытные данные:\n",
        "6.9, 6.1, 6.2, 6.8, 7.5, 6.3, 6.4, 6.9, 6.7, 6.1\n",
        "\n",
        "Предполагая, что результаты измерений подчинены нормальному закону распределения вероятностей, оценить истинное значение величины X при помощи доверительного интервала, покрывающего это значение с доверительной вероятностью 0,95."
      ],
      "metadata": {
        "id": "UMlInFOb_ZVo"
      }
    },
    {
      "cell_type": "code",
      "source": [
        "arr = np.array([6.9, 6.1, 6.2, 6.8, 7.5, 6.3, 6.4, 6.9, 6.7, 6.1])\n",
        "print(f'Среднее выборочное: {np.mean(arr):.3f},\\n'\n",
        "      f'Размер выборки n={len(arr)},\\n'\n",
        "      f'Среднее квадратическое отклонение по выборке(несмещенное): {np.std(arr, ddof=1):.3f}.')"
      ],
      "metadata": {
        "colab": {
          "base_uri": "https://localhost:8080/"
        },
        "id": "jLPmOZlV_Zmg",
        "outputId": "9c0c99b9-0cb0-40f7-ed51-59160149d8be"
      },
      "execution_count": null,
      "outputs": [
        {
          "output_type": "stream",
          "name": "stdout",
          "text": [
            "Среднее выборочное: 6.590,\n",
            "Размер выборки n=10,\n",
            "Среднее квадратическое отклонение по выборке(несмещенное): 0.451.\n"
          ]
        }
      ]
    },
    {
      "cell_type": "code",
      "source": [
        "def t_from_table(confidens, len_array):\n",
        "    alpha = (1 - confidens)\n",
        "    return stats.t.ppf(1 - alpha / 2, len_array - 1)\n",
        "\n",
        "\n",
        "print(f'Табличное значение t-критерия для 95%-го доверительного \\\n",
        "интервала данной выборки: {t_from_table(0.95, len(arr)):.3f}')"
      ],
      "metadata": {
        "colab": {
          "base_uri": "https://localhost:8080/"
        },
        "id": "i33OSdFz_Zpc",
        "outputId": "63f37d14-6a56-4cbb-c133-0748582cfc96"
      },
      "execution_count": null,
      "outputs": [
        {
          "output_type": "stream",
          "name": "stdout",
          "text": [
            "Табличное значение t-критерия для 95%-го доверительного интервала данной выборки: 2.262\n"
          ]
        }
      ]
    },
    {
      "cell_type": "code",
      "source": [
        "def confidens_int(arr, confidens):\n",
        "    return round(np.mean(arr)-t_from_table(confidens,len(arr))*np.std(arr, ddof=1)/len(arr)**0.5,3), \\\n",
        "           round(np.mean(arr)+t_from_table(confidens,len(arr))*np.std(arr, ddof=1)/len(arr)**0.5,3)\n",
        "\n",
        "\n",
        "print(f'95%-й доверительный интервал для истинного значения: {confidens_int(arr, 0.95)}.')"
      ],
      "metadata": {
        "colab": {
          "base_uri": "https://localhost:8080/"
        },
        "id": "S3QbGYvrB0r8",
        "outputId": "09004fff-0601-4b8d-c8ba-bcbb9509ce08"
      },
      "execution_count": null,
      "outputs": [
        {
          "output_type": "stream",
          "name": "stdout",
          "text": [
            "95%-й доверительный интервал для истинного значения: (6.268, 6.912).\n"
          ]
        }
      ]
    },
    {
      "cell_type": "markdown",
      "source": [
        "---\n",
        "---\n",
        "---\n",
        "Рост дочерей 175, 167, 154, 174, 178, 148, 160, 167, 169, 170\n",
        "\n",
        "Рост матерей  178, 165, 165, 173, 168, 155, 160, 164, 178, 175\n",
        "Используя эти данные построить 95% доверительный интервал для разности среднего роста родителей и детей."
      ],
      "metadata": {
        "id": "b_-B_2bN4z7X"
      }
    },
    {
      "cell_type": "code",
      "source": [
        "arr_d = np.array([175, 167, 154, 174, 178, 148, 160, 167, 169, 170])\n",
        "arr_m = np.array([178, 165, 165, 173, 168, 155, 160, 164, 178, 175])\n",
        "\n",
        "arr_d, arr_m"
      ],
      "metadata": {
        "colab": {
          "base_uri": "https://localhost:8080/"
        },
        "id": "-9NpnLw241gz",
        "outputId": "fb4fc3b1-893c-4ad9-8770-4d5189eb5528"
      },
      "execution_count": null,
      "outputs": [
        {
          "output_type": "execute_result",
          "data": {
            "text/plain": [
              "(array([175, 167, 154, 174, 178, 148, 160, 167, 169, 170]),\n",
              " array([178, 165, 165, 173, 168, 155, 160, 164, 178, 175]))"
            ]
          },
          "metadata": {},
          "execution_count": 8
        }
      ]
    },
    {
      "cell_type": "code",
      "source": [
        "len_arr_d = len(arr_d)\n",
        "len_arr_m = len(arr_m)\n",
        "\n",
        "len_arr_d, len_arr_m"
      ],
      "metadata": {
        "colab": {
          "base_uri": "https://localhost:8080/"
        },
        "id": "tkexuoH05jN2",
        "outputId": "2b073944-1ef3-4bb8-bfee-038960d3c36c"
      },
      "execution_count": null,
      "outputs": [
        {
          "output_type": "execute_result",
          "data": {
            "text/plain": [
              "(10, 10)"
            ]
          },
          "metadata": {},
          "execution_count": 13
        }
      ]
    },
    {
      "cell_type": "code",
      "source": [
        "mean_d = np.mean(arr_d)\n",
        "mean_m = np.mean(arr_m)\n",
        "\n",
        "mean_d, mean_m"
      ],
      "metadata": {
        "colab": {
          "base_uri": "https://localhost:8080/"
        },
        "id": "T3L0dwpS5-p4",
        "outputId": "5abe9c69-2095-49dd-b0a8-febd4b22560e"
      },
      "execution_count": null,
      "outputs": [
        {
          "output_type": "execute_result",
          "data": {
            "text/plain": [
              "(166.2, 168.1)"
            ]
          },
          "metadata": {},
          "execution_count": 15
        }
      ]
    },
    {
      "cell_type": "code",
      "source": [
        "delta = mean_m - mean_d\n",
        "delta"
      ],
      "metadata": {
        "colab": {
          "base_uri": "https://localhost:8080/"
        },
        "id": "tiuEtV1C7mS4",
        "outputId": "4c4dbc78-5f55-4083-c58a-32d092539b94"
      },
      "execution_count": null,
      "outputs": [
        {
          "output_type": "execute_result",
          "data": {
            "text/plain": [
              "1.9000000000000057"
            ]
          },
          "metadata": {},
          "execution_count": 19
        }
      ]
    },
    {
      "cell_type": "code",
      "source": [
        "d_d = np.var(arr_d, ddof=1)\n",
        "d_m = np.var(arr_m, ddof=1)\n",
        "\n",
        "d_d, d_m"
      ],
      "metadata": {
        "colab": {
          "base_uri": "https://localhost:8080/"
        },
        "id": "hzOXnSw-93DW",
        "outputId": "a05790d1-de13-43d5-83e6-f590189fc7f0"
      },
      "execution_count": null,
      "outputs": [
        {
          "output_type": "execute_result",
          "data": {
            "text/plain": [
              "(91.06666666666666, 60.10000000000001)"
            ]
          },
          "metadata": {},
          "execution_count": 21
        }
      ]
    },
    {
      "cell_type": "code",
      "source": [
        "D = (d_d + d_m) / 2\n",
        "D"
      ],
      "metadata": {
        "colab": {
          "base_uri": "https://localhost:8080/"
        },
        "id": "z66rcihB-2hn",
        "outputId": "3123f09e-7ffb-4eb9-882c-de18ac47371e"
      },
      "execution_count": null,
      "outputs": [
        {
          "output_type": "execute_result",
          "data": {
            "text/plain": [
              "75.58333333333334"
            ]
          },
          "metadata": {},
          "execution_count": 22
        }
      ]
    },
    {
      "cell_type": "code",
      "source": [
        "s = np.sqrt(D / 10 + D / 10)\n",
        "s"
      ],
      "metadata": {
        "colab": {
          "base_uri": "https://localhost:8080/"
        },
        "id": "GR-7oX0t_0yH",
        "outputId": "7548e2f6-2c28-48ee-aea2-37d5417be3c9"
      },
      "execution_count": null,
      "outputs": [
        {
          "output_type": "execute_result",
          "data": {
            "text/plain": [
              "3.8880157750022915"
            ]
          },
          "metadata": {},
          "execution_count": 32
        }
      ]
    },
    {
      "cell_type": "code",
      "source": [
        "t = stats.t.ppf(0.975, 18)\n",
        "t"
      ],
      "metadata": {
        "colab": {
          "base_uri": "https://localhost:8080/"
        },
        "id": "9FNNIb4CAOFl",
        "outputId": "92e4c0f2-6d8d-4174-d4da-31958fe195ec"
      },
      "execution_count": null,
      "outputs": [
        {
          "output_type": "execute_result",
          "data": {
            "text/plain": [
              "2.10092204024096"
            ]
          },
          "metadata": {},
          "execution_count": 24
        }
      ]
    },
    {
      "cell_type": "code",
      "source": [
        "start = delta - t * s\n",
        "end = delta + t * s\n",
        "\n",
        "start, end"
      ],
      "metadata": {
        "colab": {
          "base_uri": "https://localhost:8080/"
        },
        "id": "ZevfzQ9VAksT",
        "outputId": "a433b6e8-cb5f-40be-ae4c-0fc566ac3fcd"
      },
      "execution_count": null,
      "outputs": [
        {
          "output_type": "execute_result",
          "data": {
            "text/plain": [
              "(-6.268418034506846, 10.068418034506857)"
            ]
          },
          "metadata": {},
          "execution_count": 28
        }
      ]
    },
    {
      "cell_type": "code",
      "source": [
        "print(f'Доверительный интервал = {start:.3f} : {end:.3f}')"
      ],
      "metadata": {
        "colab": {
          "base_uri": "https://localhost:8080/"
        },
        "id": "8jXOHLV_9WeF",
        "outputId": "d9b83575-3bf2-4d53-b7ab-b52811d3dc8b"
      },
      "execution_count": null,
      "outputs": [
        {
          "output_type": "stream",
          "name": "stdout",
          "text": [
            "Доверительный интервал = -6.268 : 10.068\n"
          ]
        }
      ]
    }
  ]
}