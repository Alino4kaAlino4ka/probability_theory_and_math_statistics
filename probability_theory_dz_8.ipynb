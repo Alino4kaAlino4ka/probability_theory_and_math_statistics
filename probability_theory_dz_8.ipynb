{
  "nbformat": 4,
  "nbformat_minor": 0,
  "metadata": {
    "colab": {
      "provenance": [],
      "authorship_tag": "ABX9TyNuzgifTjLlp0BtU6hNFqcs",
      "include_colab_link": true
    },
    "kernelspec": {
      "name": "python3",
      "display_name": "Python 3"
    },
    "language_info": {
      "name": "python"
    }
  },
  "cells": [
    {
      "cell_type": "markdown",
      "metadata": {
        "id": "view-in-github",
        "colab_type": "text"
      },
      "source": [
        "<a href=\"https://colab.research.google.com/github/Alino4kaAlino4ka/probability_theory_and_math_statistics/blob/main/probability_theory_dz_8.ipynb\" target=\"_parent\"><img src=\"https://colab.research.google.com/assets/colab-badge.svg\" alt=\"Open In Colab\"/></a>"
      ]
    },
    {
      "cell_type": "markdown",
      "source": [
        "Теория вероятностей и математическая статистика (семинары)\n",
        "\n",
        "Урок 8. Корреляционный анализ"
      ],
      "metadata": {
        "id": "IycKaPTZFHWv"
      }
    },
    {
      "cell_type": "markdown",
      "source": [
        "---\n",
        "Даны значения величины заработной платы заемщиков банка (zp) и значения их поведенческого кредитного скоринга (ks): \n",
        "\n",
        "zp = [35, 45, 190, 200, 40, 70, 54, 150, 120, 110],\n",
        "\n",
        "ks = [401, 574, 874, 919, 459, 739, 653, 902, 746, 832].\n",
        "\n",
        "Найдите ковариацию этих двух величин с помощью элементарных действий, а затем с помощью функции cov из numpy\n",
        "Полученные значения должны быть равны.\n",
        "Найдите коэффициент корреляции Пирсона с помощью ковариации и среднеквадратичных отклонений двух признаков, а затем с использованием функций из библиотек numpy и pandas."
      ],
      "metadata": {
        "id": "13hbaDPfFHdl"
      }
    },
    {
      "cell_type": "code",
      "execution_count": 15,
      "metadata": {
        "id": "UIayU8QRuxre"
      },
      "outputs": [],
      "source": [
        "import numpy as np\n",
        "import pandas as pd\n",
        "import scipy.stats as stats\n",
        "import matplotlib.pyplot as plt"
      ]
    },
    {
      "cell_type": "code",
      "source": [
        "zp = np.array([35, 45, 190, 200, 40, 70, 54, 150, 120, 110])\n",
        "ks = np.array([401, 574, 874, 919, 459, 739, 653, 902, 746, 832])\n",
        "\n",
        "zp, ks"
      ],
      "metadata": {
        "colab": {
          "base_uri": "https://localhost:8080/"
        },
        "id": "MZ6iD4GzFhSd",
        "outputId": "398c118a-362c-4394-b793-fdc09e262108"
      },
      "execution_count": 21,
      "outputs": [
        {
          "output_type": "execute_result",
          "data": {
            "text/plain": [
              "(array([ 35,  45, 190, 200,  40,  70,  54, 150, 120, 110]),\n",
              " array([401, 574, 874, 919, 459, 739, 653, 902, 746, 832]))"
            ]
          },
          "metadata": {},
          "execution_count": 21
        }
      ]
    },
    {
      "cell_type": "code",
      "source": [
        "plt.scatter(zp, ks)\n",
        "plt.xlabel('Величина заработной платы')\n",
        "plt.ylabel('Поведенческий кредитный скоринг', rotation=90)\n",
        "plt.show()"
      ],
      "metadata": {
        "colab": {
          "base_uri": "https://localhost:8080/",
          "height": 279
        },
        "id": "RDHJLH0gF0xh",
        "outputId": "a4205d25-1cad-4730-83bd-b8fee3546c2d"
      },
      "execution_count": 22,
      "outputs": [
        {
          "output_type": "display_data",
          "data": {
            "text/plain": [
              "<Figure size 432x288 with 1 Axes>"
            ],
            "image/png": "[encoded data removed]"
          },
          "metadata": {
            "needs_background": "light"
          }
        }
      ]
    },
    {
      "cell_type": "code",
      "source": [
        "def covar(arr1, arr2):\n",
        "    MXY = sum(arr1 * arr2) / len(arr1)\n",
        "    MX = sum(arr1) / len(arr1)\n",
        "    MY = sum(arr2) / len(arr2)\n",
        "    return MXY - MX * MY\n",
        "\n",
        "\n",
        "covar(zp, ks)"
      ],
      "metadata": {
        "colab": {
          "base_uri": "https://localhost:8080/"
        },
        "id": "TUvzrJFAF01d",
        "outputId": "6dd65684-954b-42fc-8643-345ca41a7515"
      },
      "execution_count": 23,
      "outputs": [
        {
          "output_type": "execute_result",
          "data": {
            "text/plain": [
              "9157.839999999997"
            ]
          },
          "metadata": {},
          "execution_count": 23
        }
      ]
    },
    {
      "cell_type": "code",
      "source": [
        "np.cov(zp, ks, ddof=0)"
      ],
      "metadata": {
        "id": "5nOk9bCSF040",
        "colab": {
          "base_uri": "https://localhost:8080/"
        },
        "outputId": "c03c1c02-cdd2-4f90-d90d-36e2d47afedc"
      },
      "execution_count": 39,
      "outputs": [
        {
          "output_type": "execute_result",
          "data": {
            "text/plain": [
              "array([[ 3494.64,  9157.84],\n",
              "       [ 9157.84, 30468.89]])"
            ]
          },
          "metadata": {},
          "execution_count": 39
        }
      ]
    },
    {
      "cell_type": "code",
      "source": [
        "def sigma(arr, offset=True):\n",
        "    mean_arr = sum(arr) / len(arr)\n",
        "    square_dev = (arr - mean_arr) ** 2\n",
        "    variance = sum(square_dev) / len(arr) if offset \\\n",
        "    else sum(square_dev) / (len(arr) - 1)\n",
        "    return variance ** 0.5  \n",
        "\n",
        "\n",
        "r = covar(zp, ks) / (sigma(zp) * sigma(ks))\n",
        "print(f'Коэффициент корреляции r = {r: .5f}')"
      ],
      "metadata": {
        "colab": {
          "base_uri": "https://localhost:8080/"
        },
        "id": "ccbvWDBXN0lv",
        "outputId": "2582ca4d-c33d-45fc-b684-177b28c3f85b"
      },
      "execution_count": 41,
      "outputs": [
        {
          "output_type": "stream",
          "name": "stdout",
          "text": [
            "Коэффициент корреляции r =  0.88749\n"
          ]
        }
      ]
    },
    {
      "cell_type": "code",
      "source": [
        "r1 = np.cov(zp, ks, ddof=1) / (sigma(zp, offset=False) * sigma(ks, offset=False))\n",
        "print(f'Коэффициент корреляции r = {r1}')"
      ],
      "metadata": {
        "colab": {
          "base_uri": "https://localhost:8080/"
        },
        "id": "5zfc9uV4QOAC",
        "outputId": "8fb4f30e-90b0-4e8e-84bd-d30cb9dbfe52"
      },
      "execution_count": 42,
      "outputs": [
        {
          "output_type": "stream",
          "name": "stdout",
          "text": [
            "Коэффициент корреляции r = [[0.33866702 0.88749009]\n",
            " [0.88749009 2.95275283]]\n"
          ]
        }
      ]
    },
    {
      "cell_type": "code",
      "source": [
        "np.corrcoef(zp, ks)"
      ],
      "metadata": {
        "colab": {
          "base_uri": "https://localhost:8080/"
        },
        "id": "9KV6t_ccQh2s",
        "outputId": "bb78b4b1-f84d-49ce-cd35-5533055e0213"
      },
      "execution_count": 43,
      "outputs": [
        {
          "output_type": "execute_result",
          "data": {
            "text/plain": [
              "array([[1.        , 0.88749009],\n",
              "       [0.88749009, 1.        ]])"
            ]
          },
          "metadata": {},
          "execution_count": 43
        }
      ]
    },
    {
      "cell_type": "code",
      "source": [
        "stats.spearmanr(zp, ks)"
      ],
      "metadata": {
        "colab": {
          "base_uri": "https://localhost:8080/"
        },
        "id": "-oRaSS06VYGl",
        "outputId": "ea3ce41f-8a6a-4b77-c494-140c1455e31a"
      },
      "execution_count": 62,
      "outputs": [
        {
          "output_type": "execute_result",
          "data": {
            "text/plain": [
              "SpearmanrResult(correlation=0.9757575757575757, pvalue=1.4675461874042197e-06)"
            ]
          },
          "metadata": {},
          "execution_count": 62
        }
      ]
    },
    {
      "cell_type": "code",
      "source": [
        "df = pd.DataFrame(data={'zp':zp, 'ks':ks})\n",
        "df"
      ],
      "metadata": {
        "colab": {
          "base_uri": "https://localhost:8080/",
          "height": 363
        },
        "id": "jVSuv8xRQxpE",
        "outputId": "c7483df5-5f7e-45a6-8910-159d47f58b5c"
      },
      "execution_count": 44,
      "outputs": [
        {
          "output_type": "execute_result",
          "data": {
            "text/plain": [
              "    zp   ks\n",
              "0   35  401\n",
              "1   45  574\n",
              "2  190  874\n",
              "3  200  919\n",
              "4   40  459\n",
              "5   70  739\n",
              "6   54  653\n",
              "7  150  902\n",
              "8  120  746\n",
              "9  110  832"
            ],
            "text/html": [
              "\n",
              "  <div id=\"df-b6b81ff9-49e1-4c59-98b3-7e480d85117f\">\n",
              "    <div class=\"colab-df-container\">\n",
              "      <div>\n",
              "<style scoped>\n",
              "    .dataframe tbody tr th:only-of-type {\n",
              "        vertical-align: middle;\n",
              "    }\n",
              "\n",
              "    .dataframe tbody tr th {\n",
              "        vertical-align: top;\n",
              "    }\n",
              "\n",
              "    .dataframe thead th {\n",
              "        text-align: right;\n",
              "    }\n",
              "</style>\n",
              "<table border=\"1\" class=\"dataframe\">\n",
              "  <thead>\n",
              "    <tr style=\"text-align: right;\">\n",
              "      <th></th>\n",
              "      <th>zp</th>\n",
              "      <th>ks</th>\n",
              "    </tr>\n",
              "  </thead>\n",
              "  <tbody>\n",
              "    <tr>\n",
              "      <th>0</th>\n",
              "      <td>35</td>\n",
              "      <td>401</td>\n",
              "    </tr>\n",
              "    <tr>\n",
              "      <th>1</th>\n",
              "      <td>45</td>\n",
              "      <td>574</td>\n",
              "    </tr>\n",
              "    <tr>\n",
              "      <th>2</th>\n",
              "      <td>190</td>\n",
              "      <td>874</td>\n",
              "    </tr>\n",
              "    <tr>\n",
              "      <th>3</th>\n",
              "      <td>200</td>\n",
              "      <td>919</td>\n",
              "    </tr>\n",
              "    <tr>\n",
              "      <th>4</th>\n",
              "      <td>40</td>\n",
              "      <td>459</td>\n",
              "    </tr>\n",
              "    <tr>\n",
              "      <th>5</th>\n",
              "      <td>70</td>\n",
              "      <td>739</td>\n",
              "    </tr>\n",
              "    <tr>\n",
              "      <th>6</th>\n",
              "      <td>54</td>\n",
              "      <td>653</td>\n",
              "    </tr>\n",
              "    <tr>\n",
              "      <th>7</th>\n",
              "      <td>150</td>\n",
              "      <td>902</td>\n",
              "    </tr>\n",
              "    <tr>\n",
              "      <th>8</th>\n",
              "      <td>120</td>\n",
              "      <td>746</td>\n",
              "    </tr>\n",
              "    <tr>\n",
              "      <th>9</th>\n",
              "      <td>110</td>\n",
              "      <td>832</td>\n",
              "    </tr>\n",
              "  </tbody>\n",
              "</table>\n",
              "</div>\n",
              "      <button class=\"colab-df-convert\" onclick=\"convertToInteractive('df-b6b81ff9-49e1-4c59-98b3-7e480d85117f')\"\n",
              "              title=\"Convert this dataframe to an interactive table.\"\n",
              "              style=\"display:none;\">\n",
              "        \n",
              "  <svg xmlns=\"http://www.w3.org/2000/svg\" height=\"24px\"viewBox=\"0 0 24 24\"\n",
              "       width=\"24px\">\n",
              "    <path d=\"M0 0h24v24H0V0z\" fill=\"none\"/>\n",
              "    <path d=\"M18.56 5.44l.94 2.06.94-2.06 2.06-.94-2.06-.94-.94-2.06-.94 2.06-2.06.94zm-11 1L8.5 8.5l.94-2.06 2.06-.94-2.06-.94L8.5 2.5l-.94 2.06-2.06.94zm10 10l.94 2.06.94-2.06 2.06-.94-2.06-.94-.94-2.06-.94 2.06-2.06.94z\"/><path d=\"M17.41 7.96l-1.37-1.37c-.4-.4-.92-.59-1.43-.59-.52 0-1.04.2-1.43.59L10.3 9.45l-7.72 7.72c-.78.78-.78 2.05 0 2.83L4 21.41c.39.39.9.59 1.41.59.51 0 1.02-.2 1.41-.59l7.78-7.78 2.81-2.81c.8-.78.8-2.07 0-2.86zM5.41 20L4 18.59l7.72-7.72 1.47 1.35L5.41 20z\"/>\n",
              "  </svg>\n",
              "      </button>\n",
              "      \n",
              "  <style>\n",
              "    .colab-df-container {\n",
              "      display:flex;\n",
              "      flex-wrap:wrap;\n",
              "      gap: 12px;\n",
              "    }\n",
              "\n",
              "    .colab-df-convert {\n",
              "      background-color: #E8F0FE;\n",
              "      border: none;\n",
              "      border-radius: 50%;\n",
              "      cursor: pointer;\n",
              "      display: none;\n",
              "      fill: #1967D2;\n",
              "      height: 32px;\n",
              "      padding: 0 0 0 0;\n",
              "      width: 32px;\n",
              "    }\n",
              "\n",
              "    .colab-df-convert:hover {\n",
              "      background-color: #E2EBFA;\n",
              "      box-shadow: 0px 1px 2px rgba(60, 64, 67, 0.3), 0px 1px 3px 1px rgba(60, 64, 67, 0.15);\n",
              "      fill: #174EA6;\n",
              "    }\n",
              "\n",
              "    [theme=dark] .colab-df-convert {\n",
              "      background-color: #3B4455;\n",
              "      fill: #D2E3FC;\n",
              "    }\n",
              "\n",
              "    [theme=dark] .colab-df-convert:hover {\n",
              "      background-color: #434B5C;\n",
              "      box-shadow: 0px 1px 3px 1px rgba(0, 0, 0, 0.15);\n",
              "      filter: drop-shadow(0px 1px 2px rgba(0, 0, 0, 0.3));\n",
              "      fill: #FFFFFF;\n",
              "    }\n",
              "  </style>\n",
              "\n",
              "      <script>\n",
              "        const buttonEl =\n",
              "          document.querySelector('#df-b6b81ff9-49e1-4c59-98b3-7e480d85117f button.colab-df-convert');\n",
              "        buttonEl.style.display =\n",
              "          google.colab.kernel.accessAllowed ? 'block' : 'none';\n",
              "\n",
              "        async function convertToInteractive(key) {\n",
              "          const element = document.querySelector('#df-b6b81ff9-49e1-4c59-98b3-7e480d85117f');\n",
              "          const dataTable =\n",
              "            await google.colab.kernel.invokeFunction('convertToInteractive',\n",
              "                                                     [key], {});\n",
              "          if (!dataTable) return;\n",
              "\n",
              "          const docLinkHtml = 'Like what you see? Visit the ' +\n",
              "            '<a target=\"_blank\" href=https://colab.research.google.com/notebooks/data_table.ipynb>data table notebook</a>'\n",
              "            + ' to learn more about interactive tables.';\n",
              "          element.innerHTML = '';\n",
              "          dataTable['output_type'] = 'display_data';\n",
              "          await google.colab.output.renderOutput(dataTable, element);\n",
              "          const docLink = document.createElement('div');\n",
              "          docLink.innerHTML = docLinkHtml;\n",
              "          element.appendChild(docLink);\n",
              "        }\n",
              "      </script>\n",
              "    </div>\n",
              "  </div>\n",
              "  "
            ]
          },
          "metadata": {},
          "execution_count": 44
        }
      ]
    },
    {
      "cell_type": "code",
      "source": [
        "df.corr()"
      ],
      "metadata": {
        "colab": {
          "base_uri": "https://localhost:8080/",
          "height": 112
        },
        "id": "9dwEpzzRQ1wE",
        "outputId": "64507b2f-a540-4cd7-f406-e0d5cc5c397e"
      },
      "execution_count": 45,
      "outputs": [
        {
          "output_type": "execute_result",
          "data": {
            "text/plain": [
              "         zp       ks\n",
              "zp  1.00000  0.88749\n",
              "ks  0.88749  1.00000"
            ],
            "text/html": [
              "\n",
              "  <div id=\"df-0d42b977-e43b-46a7-abbc-15b8a5c0dc12\">\n",
              "    <div class=\"colab-df-container\">\n",
              "      <div>\n",
              "<style scoped>\n",
              "    .dataframe tbody tr th:only-of-type {\n",
              "        vertical-align: middle;\n",
              "    }\n",
              "\n",
              "    .dataframe tbody tr th {\n",
              "        vertical-align: top;\n",
              "    }\n",
              "\n",
              "    .dataframe thead th {\n",
              "        text-align: right;\n",
              "    }\n",
              "</style>\n",
              "<table border=\"1\" class=\"dataframe\">\n",
              "  <thead>\n",
              "    <tr style=\"text-align: right;\">\n",
              "      <th></th>\n",
              "      <th>zp</th>\n",
              "      <th>ks</th>\n",
              "    </tr>\n",
              "  </thead>\n",
              "  <tbody>\n",
              "    <tr>\n",
              "      <th>zp</th>\n",
              "      <td>1.00000</td>\n",
              "      <td>0.88749</td>\n",
              "    </tr>\n",
              "    <tr>\n",
              "      <th>ks</th>\n",
              "      <td>0.88749</td>\n",
              "      <td>1.00000</td>\n",
              "    </tr>\n",
              "  </tbody>\n",
              "</table>\n",
              "</div>\n",
              "      <button class=\"colab-df-convert\" onclick=\"convertToInteractive('df-0d42b977-e43b-46a7-abbc-15b8a5c0dc12')\"\n",
              "              title=\"Convert this dataframe to an interactive table.\"\n",
              "              style=\"display:none;\">\n",
              "        \n",
              "  <svg xmlns=\"http://www.w3.org/2000/svg\" height=\"24px\"viewBox=\"0 0 24 24\"\n",
              "       width=\"24px\">\n",
              "    <path d=\"M0 0h24v24H0V0z\" fill=\"none\"/>\n",
              "    <path d=\"M18.56 5.44l.94 2.06.94-2.06 2.06-.94-2.06-.94-.94-2.06-.94 2.06-2.06.94zm-11 1L8.5 8.5l.94-2.06 2.06-.94-2.06-.94L8.5 2.5l-.94 2.06-2.06.94zm10 10l.94 2.06.94-2.06 2.06-.94-2.06-.94-.94-2.06-.94 2.06-2.06.94z\"/><path d=\"M17.41 7.96l-1.37-1.37c-.4-.4-.92-.59-1.43-.59-.52 0-1.04.2-1.43.59L10.3 9.45l-7.72 7.72c-.78.78-.78 2.05 0 2.83L4 21.41c.39.39.9.59 1.41.59.51 0 1.02-.2 1.41-.59l7.78-7.78 2.81-2.81c.8-.78.8-2.07 0-2.86zM5.41 20L4 18.59l7.72-7.72 1.47 1.35L5.41 20z\"/>\n",
              "  </svg>\n",
              "      </button>\n",
              "      \n",
              "  <style>\n",
              "    .colab-df-container {\n",
              "      display:flex;\n",
              "      flex-wrap:wrap;\n",
              "      gap: 12px;\n",
              "    }\n",
              "\n",
              "    .colab-df-convert {\n",
              "      background-color: #E8F0FE;\n",
              "      border: none;\n",
              "      border-radius: 50%;\n",
              "      cursor: pointer;\n",
              "      display: none;\n",
              "      fill: #1967D2;\n",
              "      height: 32px;\n",
              "      padding: 0 0 0 0;\n",
              "      width: 32px;\n",
              "    }\n",
              "\n",
              "    .colab-df-convert:hover {\n",
              "      background-color: #E2EBFA;\n",
              "      box-shadow: 0px 1px 2px rgba(60, 64, 67, 0.3), 0px 1px 3px 1px rgba(60, 64, 67, 0.15);\n",
              "      fill: #174EA6;\n",
              "    }\n",
              "\n",
              "    [theme=dark] .colab-df-convert {\n",
              "      background-color: #3B4455;\n",
              "      fill: #D2E3FC;\n",
              "    }\n",
              "\n",
              "    [theme=dark] .colab-df-convert:hover {\n",
              "      background-color: #434B5C;\n",
              "      box-shadow: 0px 1px 3px 1px rgba(0, 0, 0, 0.15);\n",
              "      filter: drop-shadow(0px 1px 2px rgba(0, 0, 0, 0.3));\n",
              "      fill: #FFFFFF;\n",
              "    }\n",
              "  </style>\n",
              "\n",
              "      <script>\n",
              "        const buttonEl =\n",
              "          document.querySelector('#df-0d42b977-e43b-46a7-abbc-15b8a5c0dc12 button.colab-df-convert');\n",
              "        buttonEl.style.display =\n",
              "          google.colab.kernel.accessAllowed ? 'block' : 'none';\n",
              "\n",
              "        async function convertToInteractive(key) {\n",
              "          const element = document.querySelector('#df-0d42b977-e43b-46a7-abbc-15b8a5c0dc12');\n",
              "          const dataTable =\n",
              "            await google.colab.kernel.invokeFunction('convertToInteractive',\n",
              "                                                     [key], {});\n",
              "          if (!dataTable) return;\n",
              "\n",
              "          const docLinkHtml = 'Like what you see? Visit the ' +\n",
              "            '<a target=\"_blank\" href=https://colab.research.google.com/notebooks/data_table.ipynb>data table notebook</a>'\n",
              "            + ' to learn more about interactive tables.';\n",
              "          element.innerHTML = '';\n",
              "          dataTable['output_type'] = 'display_data';\n",
              "          await google.colab.output.renderOutput(dataTable, element);\n",
              "          const docLink = document.createElement('div');\n",
              "          docLink.innerHTML = docLinkHtml;\n",
              "          element.appendChild(docLink);\n",
              "        }\n",
              "      </script>\n",
              "    </div>\n",
              "  </div>\n",
              "  "
            ]
          },
          "metadata": {},
          "execution_count": 45
        }
      ]
    },
    {
      "cell_type": "markdown",
      "source": [
        "---\n",
        "---\n",
        " Измерены значения IQ выборки студентов,\n",
        "обучающихся в местных технических вузах:\n",
        "\n",
        "131, 125, 115, 122, 131, 115, 107, 99, 125, 111.\n",
        "\n",
        "Известно, что в генеральной совокупности IQ распределен нормально.\n",
        "Найдите доверительный интервал для математического ожидания с надежностью 0.95."
      ],
      "metadata": {
        "id": "_1VaZv6EQ5q3"
      }
    },
    {
      "cell_type": "code",
      "source": [
        "arr = np.array([131, 125, 115, 122, 131, 115, 107, 99, 125, 111])\n",
        "print(f'Среднее выборочное: {np.mean(arr):.3f},\\n'\n",
        "      f'Размер выборки n={len(arr)},\\n'\n",
        "      f'Среднее квадратическое отклонение по выборке(несмещенное): {np.std(arr, ddof=1):.3f}.')"
      ],
      "metadata": {
        "colab": {
          "base_uri": "https://localhost:8080/"
        },
        "id": "_6d7p1j5Q5Fj",
        "outputId": "c9cdf076-86d8-42b0-a837-1a1e96a08a9c"
      },
      "execution_count": 52,
      "outputs": [
        {
          "output_type": "stream",
          "name": "stdout",
          "text": [
            "Среднее выборочное: 118.100,\n",
            "Размер выборки n=10,\n",
            "Среднее квадратическое отклонение по выборке(несмещенное):       10.546.\n"
          ]
        }
      ]
    },
    {
      "cell_type": "code",
      "source": [
        "def t_from_table(confidens, len_arr):\n",
        "    alpha = (1 - confidens)\n",
        "    return stats.t.ppf(1 - alpha / 2, len_arr - 1)\n",
        "\n",
        "    \n",
        "print(f'Табличное значение t-критерия для 95%-го доверительного интервала \\\n",
        "данной выборки: {t_from_table(0.95, len(arr)):.3f}')"
      ],
      "metadata": {
        "colab": {
          "base_uri": "https://localhost:8080/"
        },
        "id": "UR7NXSLyQ5L2",
        "outputId": "5cb4d0a6-c91d-4ac9-b0cd-582dd1863cbd"
      },
      "execution_count": 49,
      "outputs": [
        {
          "output_type": "stream",
          "name": "stdout",
          "text": [
            "Табличное значение t-критерия для 95%-го доверительного интервала данной выборки: 2.262\n"
          ]
        }
      ]
    },
    {
      "cell_type": "code",
      "source": [
        "def confidens_int(arr, confidens):\n",
        "    m = np.mean(arr)\n",
        "    l = len(arr)\n",
        "    return round(m - t_from_table(confidens, l) * np.std(arr, ddof=1) / l ** 0.5, 3), \\\n",
        "           round(m + t_from_table(confidens, l) * np.std(arr, ddof=1) / l ** 0.5, 3)\n",
        "\n",
        "\n",
        "print(f'95%-й доверительный интервал для истинного значения IQ: {confidens_int(arr, 0.95)}.')"
      ],
      "metadata": {
        "colab": {
          "base_uri": "https://localhost:8080/"
        },
        "id": "GO1ZBzCfQ5QP",
        "outputId": "951306e2-9dcd-4212-e251-c248e5b9b7fe"
      },
      "execution_count": 57,
      "outputs": [
        {
          "output_type": "stream",
          "name": "stdout",
          "text": [
            "95%-й доверительный интервал для истинного значения IQ: (110.556, 125.644).\n"
          ]
        }
      ]
    },
    {
      "cell_type": "markdown",
      "source": [
        "---\n",
        "---\n",
        "---\n",
        " Известно, что рост футболистов в сборной распределен нормально с дисперсией генеральной совокупности, равной 25 кв.см. Объем выборки равен 27, среднее выборочное составляет 174.2. Найдите доверительный интервал для математического ожидания с надежностью 0.95"
      ],
      "metadata": {
        "id": "eQqUDU4bTwB_"
      }
    },
    {
      "cell_type": "code",
      "source": [
        "start = 174.2 - (1.96 * 25 ** 0.5) / 27 ** 0.5\n",
        "end = 174.2 + (1.96 * 25 ** 0.5) / 27 ** 0.5\n",
        "\n",
        "print(f'95%-й доверительный интервал для оценки математического ожидания \\\n",
        "генеральной совокупности: [{start:.3f} ; {end:.3f}].')"
      ],
      "metadata": {
        "colab": {
          "base_uri": "https://localhost:8080/"
        },
        "id": "QJ13HAW4TOVs",
        "outputId": "efbbb0cf-52e0-4210-9c40-d421e6ad3187"
      },
      "execution_count": 61,
      "outputs": [
        {
          "output_type": "stream",
          "name": "stdout",
          "text": [
            "95%-й доверительный интервал для оценки математического ожидания генеральной совокупности: [172.314 ; 176.086].\n"
          ]
        }
      ]
    }
  ]
}