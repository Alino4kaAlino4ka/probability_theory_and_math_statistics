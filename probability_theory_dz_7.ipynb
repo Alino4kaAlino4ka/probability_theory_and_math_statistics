{
  "nbformat": 4,
  "nbformat_minor": 0,
  "metadata": {
    "colab": {
      "provenance": [],
      "authorship_tag": "ABX9TyOozlnnMJfIj1k7C4hRdB0Q",
      "include_colab_link": true
    },
    "kernelspec": {
      "name": "python3",
      "display_name": "Python 3"
    },
    "language_info": {
      "name": "python"
    }
  },
  "cells": [
    {
      "cell_type": "markdown",
      "metadata": {
        "id": "view-in-github",
        "colab_type": "text"
      },
      "source": [
        "<a href=\"https://colab.research.google.com/github/Alino4kaAlino4ka/probability_theory_and_math_statistics/blob/main/probability_theory_dz_7.ipynb\" target=\"_parent\"><img src=\"https://colab.research.google.com/assets/colab-badge.svg\" alt=\"Open In Colab\"/></a>"
      ]
    },
    {
      "cell_type": "markdown",
      "source": [
        "Теория вероятностей и математическая статистика (семинары)\n",
        "\n",
        "Урок 7. Непараметрические тесты\n",
        "\n",
        "1-4 задачи решать с помощью функций, 5ю вручную\n",
        "\n",
        "Выбрать тест и проверить, есть  ли различия между выборками:"
      ],
      "metadata": {
        "id": "NSRa8Dt6-E18"
      }
    },
    {
      "cell_type": "markdown",
      "source": [
        "\n",
        "---\n",
        "\n",
        "1 )  Даны две  независимые выборки. Не соблюдается условие нормальности\n",
        "\n",
        "x1  380,420, 290\n",
        "\n",
        "y1 140,360,200,900\n",
        "\n",
        "Сделайте вывод по результатам, полученным с помощью функции"
      ],
      "metadata": {
        "id": "cI59sM_f-RSm"
      }
    },
    {
      "cell_type": "code",
      "source": [
        "import scipy.stats as stats\n",
        "import numpy as np"
      ],
      "metadata": {
        "id": "2WRlX1b8-cxN"
      },
      "execution_count": null,
      "outputs": []
    },
    {
      "cell_type": "code",
      "execution_count": null,
      "metadata": {
        "colab": {
          "base_uri": "https://localhost:8080/"
        },
        "id": "VWzNehEbn9Gg",
        "outputId": "39c066e0-82c1-4c8b-8c43-5b0d43deed5b"
      },
      "outputs": [
        {
          "output_type": "execute_result",
          "data": {
            "text/plain": [
              "(array([380, 420, 290]), array([140, 360, 200, 900]))"
            ]
          },
          "metadata": {},
          "execution_count": 4
        }
      ],
      "source": [
        "x1 = np.array([380, 420, 290])\n",
        "y1 = np.array([140, 360, 200, 900])\n",
        "\n",
        "x1, y1"
      ]
    },
    {
      "cell_type": "code",
      "source": [
        "stats.mannwhitneyu(x1, y1)"
      ],
      "metadata": {
        "colab": {
          "base_uri": "https://localhost:8080/"
        },
        "id": "cBvrSj0S_UbT",
        "outputId": "bf7b7c15-2bbe-4f7a-bb63-3c0cb6fde401"
      },
      "execution_count": null,
      "outputs": [
        {
          "output_type": "execute_result",
          "data": {
            "text/plain": [
              "MannwhitneyuResult(statistic=8.0, pvalue=0.6285714285714286)"
            ]
          },
          "metadata": {},
          "execution_count": 5
        }
      ]
    },
    {
      "cell_type": "markdown",
      "source": [
        "---\n",
        "---\n",
        "2 ) Исследовалось влияние препарата на уровень давления пациентов. Сначала измерялось давление до приема препарата, потом через 10 минут и через 30 минут. Есть ли статистически значимые различия?\n",
        "\n",
        "1е измерение до приема препарата: 150, 160, 165, 145, 155\n",
        "\n",
        "2е измерение через 10 минут: 140, 155, 150,  130, 135\n",
        "\n",
        "3е измерение через 30 минут: 130, 130, 120, 130, 125"
      ],
      "metadata": {
        "id": "j96z_Du7_ge4"
      }
    },
    {
      "cell_type": "code",
      "source": [
        "arr1 = np.array([150, 160, 165, 145, 155])\n",
        "arr2 = np.array([140, 155, 150, 130, 135])\n",
        "arr3 = np.array([130, 130, 120, 130, 125])\n",
        "\n",
        "arr1, arr2, arr3"
      ],
      "metadata": {
        "colab": {
          "base_uri": "https://localhost:8080/"
        },
        "id": "LdmLa0jp_k4m",
        "outputId": "ff0ccb3e-4c4a-4791-d699-76e5eac6a31c"
      },
      "execution_count": null,
      "outputs": [
        {
          "output_type": "execute_result",
          "data": {
            "text/plain": [
              "(array([150, 160, 165, 145, 155]),\n",
              " array([140, 155, 150, 130, 135]),\n",
              " array([130, 130, 120, 130, 125]))"
            ]
          },
          "metadata": {},
          "execution_count": 6
        }
      ]
    },
    {
      "cell_type": "code",
      "source": [
        "stats.friedmanchisquare(arr1, arr2, arr3)"
      ],
      "metadata": {
        "colab": {
          "base_uri": "https://localhost:8080/"
        },
        "id": "NVlJUISE_8l6",
        "outputId": "4ddc5dd4-3ef4-4672-cea2-ffee87068bd5"
      },
      "execution_count": null,
      "outputs": [
        {
          "output_type": "execute_result",
          "data": {
            "text/plain": [
              "FriedmanchisquareResult(statistic=9.578947368421062, pvalue=0.00831683351100441)"
            ]
          },
          "metadata": {},
          "execution_count": 7
        }
      ]
    },
    {
      "cell_type": "markdown",
      "source": [
        "---\n",
        "---\n",
        "---\n",
        "3 ) Сравните 1 и 2 е измерения, предполагая, что 3го измерения через 30 минут не было"
      ],
      "metadata": {
        "id": "OYPb3VRKAJDn"
      }
    },
    {
      "cell_type": "code",
      "source": [
        "stats.wilcoxon(arr1, arr2)"
      ],
      "metadata": {
        "colab": {
          "base_uri": "https://localhost:8080/"
        },
        "id": "44Ug1AJRAqle",
        "outputId": "189fbe41-4c94-477f-8cc7-030c10c77988"
      },
      "execution_count": null,
      "outputs": [
        {
          "output_type": "execute_result",
          "data": {
            "text/plain": [
              "WilcoxonResult(statistic=0.0, pvalue=0.0625)"
            ]
          },
          "metadata": {},
          "execution_count": 8
        }
      ]
    },
    {
      "cell_type": "markdown",
      "source": [
        "---\n",
        "---\n",
        "---\n",
        "---\n",
        "4) Даны 3 группы  учеников плавания.\n",
        "\n",
        "В 1 группе время на дистанцию 50 м составляют: 56, 60, 62, 55, 71, 67, 59, 58, 64, 67\n",
        "\n",
        "Вторая группа : 57, 58, 69, 48, 72, 70, 68, 71, 50, 53\n",
        "\n",
        "Третья группа: 57, 67, 49, 48, 47, 55, 66, 51, 54"
      ],
      "metadata": {
        "id": "TBHkbLo5A6Cy"
      }
    },
    {
      "cell_type": "code",
      "source": [
        "arr1 = np.array([56, 60, 62, 55, 71, 67, 59, 58, 64, 67])\n",
        "arr2 = np.array([57, 58, 69, 48, 72, 70, 68, 71, 50, 53])\n",
        "arr3 = np.array([57, 67, 49, 48, 47, 55, 66, 51, 54])\n",
        "\n",
        "arr1, arr2, arr3"
      ],
      "metadata": {
        "colab": {
          "base_uri": "https://localhost:8080/"
        },
        "id": "nIjIZW9NA_ty",
        "outputId": "8a74f73e-e29d-486d-d842-61150b3dc780"
      },
      "execution_count": null,
      "outputs": [
        {
          "output_type": "execute_result",
          "data": {
            "text/plain": [
              "(array([56, 60, 62, 55, 71, 67, 59, 58, 64, 67]),\n",
              " array([57, 58, 69, 48, 72, 70, 68, 71, 50, 53]),\n",
              " array([57, 67, 49, 48, 47, 55, 66, 51, 54]))"
            ]
          },
          "metadata": {},
          "execution_count": 9
        }
      ]
    },
    {
      "cell_type": "code",
      "source": [
        "stats.kruskal(arr1, arr2, arr3)"
      ],
      "metadata": {
        "colab": {
          "base_uri": "https://localhost:8080/"
        },
        "id": "rHKzhlrKBMY6",
        "outputId": "c3ed8046-b61c-48ea-92cf-2d334af54b96"
      },
      "execution_count": null,
      "outputs": [
        {
          "output_type": "execute_result",
          "data": {
            "text/plain": [
              "KruskalResult(statistic=5.465564058257224, pvalue=0.0650380998590494)"
            ]
          },
          "metadata": {},
          "execution_count": 10
        }
      ]
    },
    {
      "cell_type": "markdown",
      "source": [
        "---\n",
        "---\n",
        "---\n",
        "---\n",
        "---\n",
        "5) Заявляется, что партия изготавливается со средним арифметическим 2,5 см. Проверить данную гипотезу, если известно, что размеры изделий подчинены нормальному закону распределения. Объем выборки 10, уровень статистической значимости 5%\n",
        "\n",
        "2.51, 2.35, 2.74, 2.56, 2.40, 2.36, 2.65, 2.7, 2.67, 2.34"
      ],
      "metadata": {
        "id": "eZch8xtuBbWC"
      }
    },
    {
      "cell_type": "code",
      "source": [
        "arr = np.array([2.51, 2.35, 2.74, 2.56, 2.40, 2.36, 2.65, 2.7, 2.67, 2.34])\n",
        "arr"
      ],
      "metadata": {
        "colab": {
          "base_uri": "https://localhost:8080/"
        },
        "id": "xaaRBvdzBmOM",
        "outputId": "81f2f9ab-e3e9-4838-ea48-6dc5a96d83c4"
      },
      "execution_count": null,
      "outputs": [
        {
          "output_type": "execute_result",
          "data": {
            "text/plain": [
              "array([2.51, 2.35, 2.74, 2.56, 2.4 , 2.36, 2.65, 2.7 , 2.67, 2.34])"
            ]
          },
          "metadata": {},
          "execution_count": 11
        }
      ]
    },
    {
      "cell_type": "code",
      "source": [
        "m = arr.mean()\n",
        "m"
      ],
      "metadata": {
        "colab": {
          "base_uri": "https://localhost:8080/"
        },
        "id": "eaPMze4SB12Z",
        "outputId": "6e8ba0bd-9fc7-4a31-cf25-bad9c6362391"
      },
      "execution_count": null,
      "outputs": [
        {
          "output_type": "execute_result",
          "data": {
            "text/plain": [
              "2.5279999999999996"
            ]
          },
          "metadata": {},
          "execution_count": 12
        }
      ]
    },
    {
      "cell_type": "code",
      "source": [
        "l = len(arr)\n",
        "l"
      ],
      "metadata": {
        "colab": {
          "base_uri": "https://localhost:8080/"
        },
        "id": "wKJsi7CyECDc",
        "outputId": "c0eaea66-4bd3-49c7-bea0-ff022ab75532"
      },
      "execution_count": null,
      "outputs": [
        {
          "output_type": "execute_result",
          "data": {
            "text/plain": [
              "10"
            ]
          },
          "metadata": {},
          "execution_count": 18
        }
      ]
    },
    {
      "cell_type": "code",
      "source": [
        "arr_std = arr.std(ddof=1)\n",
        "arr_std"
      ],
      "metadata": {
        "colab": {
          "base_uri": "https://localhost:8080/"
        },
        "id": "a6GX89Z8DSjx",
        "outputId": "1318eef5-89f3-457a-d448-32a3722430f8"
      },
      "execution_count": null,
      "outputs": [
        {
          "output_type": "execute_result",
          "data": {
            "text/plain": [
              "0.1572542173961923"
            ]
          },
          "metadata": {},
          "execution_count": 16
        }
      ]
    },
    {
      "cell_type": "code",
      "source": [
        "t = (m - 2.5) / (arr_std / np.sqrt(l))\n",
        "t"
      ],
      "metadata": {
        "colab": {
          "base_uri": "https://localhost:8080/"
        },
        "id": "zUWRWDNIDiJx",
        "outputId": "7f5a23da-fa65-45e6-ff57-53f96ef15574"
      },
      "execution_count": null,
      "outputs": [
        {
          "output_type": "execute_result",
          "data": {
            "text/plain": [
              "0.5630613661802959"
            ]
          },
          "metadata": {},
          "execution_count": 20
        }
      ]
    },
    {
      "cell_type": "markdown",
      "source": [
        "th = (x - mu) / (sigma mu / np.sqrt(n))"
      ],
      "metadata": {
        "id": "Cu4iNO7qEx8z"
      }
    },
    {
      "cell_type": "code",
      "source": [
        "# th = (x - mu) / (sigma mu / np.sqrt(n))"
      ],
      "metadata": {
        "id": "zAIBROVZFJN_"
      },
      "execution_count": null,
      "outputs": []
    },
    {
      "cell_type": "code",
      "source": [
        "stats.ttest_1samp(arr, 2.5)"
      ],
      "metadata": {
        "id": "exx0qy7zHAIU",
        "colab": {
          "base_uri": "https://localhost:8080/"
        },
        "outputId": "219df8d2-d9a0-4f38-e779-4258b277dff6"
      },
      "execution_count": null,
      "outputs": [
        {
          "output_type": "execute_result",
          "data": {
            "text/plain": [
              "Ttest_1sampResult(statistic=0.5630613661802959, pvalue=0.5871439993940628)"
            ]
          },
          "metadata": {},
          "execution_count": 21
        }
      ]
    }
  ]
}